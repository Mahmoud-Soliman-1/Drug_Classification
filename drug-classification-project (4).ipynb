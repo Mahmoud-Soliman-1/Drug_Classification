{
 "cells": [
  {
   "cell_type": "code",
   "execution_count": 1,
   "id": "6043c9b9",
   "metadata": {
    "_cell_guid": "b1076dfc-b9ad-4769-8c92-a6c4dae69d19",
    "_uuid": "8f2839f25d086af736a60e9eeb907d3b93b6e0e5",
    "execution": {
     "iopub.execute_input": "2025-04-11T17:02:33.572521Z",
     "iopub.status.busy": "2025-04-11T17:02:33.572162Z",
     "iopub.status.idle": "2025-04-11T17:02:36.156247Z",
     "shell.execute_reply": "2025-04-11T17:02:36.155383Z"
    },
    "papermill": {
     "duration": 2.601156,
     "end_time": "2025-04-11T17:02:36.157825",
     "exception": false,
     "start_time": "2025-04-11T17:02:33.556669",
     "status": "completed"
    },
    "tags": []
   },
   "outputs": [],
   "source": [
    "import numpy as np\n",
    "import pandas as pd \n",
    "import matplotlib.pyplot as plt\n",
    "import seaborn as sns\n",
    "%matplotlib inline\n",
    "sns.set()"
   ]
  },
  {
   "cell_type": "markdown",
   "id": "a2645fc4",
   "metadata": {
    "papermill": {
     "duration": 0.012607,
     "end_time": "2025-04-11T17:02:36.183531",
     "exception": false,
     "start_time": "2025-04-11T17:02:36.170924",
     "status": "completed"
    },
    "tags": []
   },
   "source": [
    "<hr>\n",
    "\n",
    "# Columns Name\n",
    "* ## Age\n",
    "* ## Sex\n",
    "* ## Blood Pressure Levels (BP)\n",
    "* ## Cholesterol Levels\n",
    "* ## Na to Potassium Ration\n",
    "* ## Drug type ( Target )\n",
    "<br> <hr>"
   ]
  },
  {
   "cell_type": "code",
   "execution_count": 2,
   "id": "d626f73f",
   "metadata": {
    "execution": {
     "iopub.execute_input": "2025-04-11T17:02:36.210022Z",
     "iopub.status.busy": "2025-04-11T17:02:36.209581Z",
     "iopub.status.idle": "2025-04-11T17:02:36.225693Z",
     "shell.execute_reply": "2025-04-11T17:02:36.225011Z"
    },
    "papermill": {
     "duration": 0.030564,
     "end_time": "2025-04-11T17:02:36.226928",
     "exception": false,
     "start_time": "2025-04-11T17:02:36.196364",
     "status": "completed"
    },
    "tags": []
   },
   "outputs": [],
   "source": [
    "path = \"/kaggle/input/drug200/drug200.csv\"\n",
    "\n",
    "drug_df = pd.read_csv(path)"
   ]
  },
  {
   "cell_type": "markdown",
   "id": "4fc44bef",
   "metadata": {
    "papermill": {
     "duration": 0.011557,
     "end_time": "2025-04-11T17:02:36.251132",
     "exception": false,
     "start_time": "2025-04-11T17:02:36.239575",
     "status": "completed"
    },
    "tags": []
   },
   "source": [
    "# Explore & Analysis Phase\n",
    "---\n",
    "<br><br><br>"
   ]
  },
  {
   "cell_type": "markdown",
   "id": "6e02104e",
   "metadata": {
    "papermill": {
     "duration": 0.011699,
     "end_time": "2025-04-11T17:02:36.274630",
     "exception": false,
     "start_time": "2025-04-11T17:02:36.262931",
     "status": "completed"
    },
    "tags": []
   },
   "source": [
    "## Show 10 samples from the data to discover it"
   ]
  },
  {
   "cell_type": "code",
   "execution_count": 3,
   "id": "497e4528",
   "metadata": {
    "execution": {
     "iopub.execute_input": "2025-04-11T17:02:36.299443Z",
     "iopub.status.busy": "2025-04-11T17:02:36.299173Z",
     "iopub.status.idle": "2025-04-11T17:02:36.332383Z",
     "shell.execute_reply": "2025-04-11T17:02:36.331474Z"
    },
    "papermill": {
     "duration": 0.047322,
     "end_time": "2025-04-11T17:02:36.333869",
     "exception": false,
     "start_time": "2025-04-11T17:02:36.286547",
     "status": "completed"
    },
    "tags": []
   },
   "outputs": [
    {
     "data": {
      "text/html": [
       "<div>\n",
       "<style scoped>\n",
       "    .dataframe tbody tr th:only-of-type {\n",
       "        vertical-align: middle;\n",
       "    }\n",
       "\n",
       "    .dataframe tbody tr th {\n",
       "        vertical-align: top;\n",
       "    }\n",
       "\n",
       "    .dataframe thead th {\n",
       "        text-align: right;\n",
       "    }\n",
       "</style>\n",
       "<table border=\"1\" class=\"dataframe\">\n",
       "  <thead>\n",
       "    <tr style=\"text-align: right;\">\n",
       "      <th></th>\n",
       "      <th>Age</th>\n",
       "      <th>Sex</th>\n",
       "      <th>BP</th>\n",
       "      <th>Cholesterol</th>\n",
       "      <th>Na_to_K</th>\n",
       "      <th>Drug</th>\n",
       "    </tr>\n",
       "  </thead>\n",
       "  <tbody>\n",
       "    <tr>\n",
       "      <th>160</th>\n",
       "      <td>30</td>\n",
       "      <td>F</td>\n",
       "      <td>NORMAL</td>\n",
       "      <td>HIGH</td>\n",
       "      <td>10.443</td>\n",
       "      <td>drugX</td>\n",
       "    </tr>\n",
       "    <tr>\n",
       "      <th>191</th>\n",
       "      <td>23</td>\n",
       "      <td>M</td>\n",
       "      <td>HIGH</td>\n",
       "      <td>HIGH</td>\n",
       "      <td>8.011</td>\n",
       "      <td>drugA</td>\n",
       "    </tr>\n",
       "    <tr>\n",
       "      <th>4</th>\n",
       "      <td>61</td>\n",
       "      <td>F</td>\n",
       "      <td>LOW</td>\n",
       "      <td>HIGH</td>\n",
       "      <td>18.043</td>\n",
       "      <td>DrugY</td>\n",
       "    </tr>\n",
       "    <tr>\n",
       "      <th>198</th>\n",
       "      <td>23</td>\n",
       "      <td>M</td>\n",
       "      <td>NORMAL</td>\n",
       "      <td>NORMAL</td>\n",
       "      <td>14.020</td>\n",
       "      <td>drugX</td>\n",
       "    </tr>\n",
       "    <tr>\n",
       "      <th>90</th>\n",
       "      <td>62</td>\n",
       "      <td>M</td>\n",
       "      <td>NORMAL</td>\n",
       "      <td>HIGH</td>\n",
       "      <td>16.594</td>\n",
       "      <td>DrugY</td>\n",
       "    </tr>\n",
       "    <tr>\n",
       "      <th>16</th>\n",
       "      <td>69</td>\n",
       "      <td>M</td>\n",
       "      <td>LOW</td>\n",
       "      <td>NORMAL</td>\n",
       "      <td>11.455</td>\n",
       "      <td>drugX</td>\n",
       "    </tr>\n",
       "    <tr>\n",
       "      <th>149</th>\n",
       "      <td>22</td>\n",
       "      <td>M</td>\n",
       "      <td>LOW</td>\n",
       "      <td>HIGH</td>\n",
       "      <td>8.151</td>\n",
       "      <td>drugC</td>\n",
       "    </tr>\n",
       "    <tr>\n",
       "      <th>195</th>\n",
       "      <td>56</td>\n",
       "      <td>F</td>\n",
       "      <td>LOW</td>\n",
       "      <td>HIGH</td>\n",
       "      <td>11.567</td>\n",
       "      <td>drugC</td>\n",
       "    </tr>\n",
       "    <tr>\n",
       "      <th>145</th>\n",
       "      <td>61</td>\n",
       "      <td>M</td>\n",
       "      <td>NORMAL</td>\n",
       "      <td>HIGH</td>\n",
       "      <td>9.443</td>\n",
       "      <td>drugX</td>\n",
       "    </tr>\n",
       "    <tr>\n",
       "      <th>158</th>\n",
       "      <td>59</td>\n",
       "      <td>F</td>\n",
       "      <td>LOW</td>\n",
       "      <td>HIGH</td>\n",
       "      <td>10.444</td>\n",
       "      <td>drugC</td>\n",
       "    </tr>\n",
       "  </tbody>\n",
       "</table>\n",
       "</div>"
      ],
      "text/plain": [
       "     Age Sex      BP Cholesterol  Na_to_K   Drug\n",
       "160   30   F  NORMAL        HIGH   10.443  drugX\n",
       "191   23   M    HIGH        HIGH    8.011  drugA\n",
       "4     61   F     LOW        HIGH   18.043  DrugY\n",
       "198   23   M  NORMAL      NORMAL   14.020  drugX\n",
       "90    62   M  NORMAL        HIGH   16.594  DrugY\n",
       "16    69   M     LOW      NORMAL   11.455  drugX\n",
       "149   22   M     LOW        HIGH    8.151  drugC\n",
       "195   56   F     LOW        HIGH   11.567  drugC\n",
       "145   61   M  NORMAL        HIGH    9.443  drugX\n",
       "158   59   F     LOW        HIGH   10.444  drugC"
      ]
     },
     "execution_count": 3,
     "metadata": {},
     "output_type": "execute_result"
    }
   ],
   "source": [
    "drug_df.sample(10)"
   ]
  },
  {
   "cell_type": "markdown",
   "id": "e8cb0abd",
   "metadata": {
    "papermill": {
     "duration": 0.013056,
     "end_time": "2025-04-11T17:02:36.360613",
     "exception": false,
     "start_time": "2025-04-11T17:02:36.347557",
     "status": "completed"
    },
    "tags": []
   },
   "source": [
    "## get information about the dataset"
   ]
  },
  {
   "cell_type": "code",
   "execution_count": 4,
   "id": "86780c9e",
   "metadata": {
    "execution": {
     "iopub.execute_input": "2025-04-11T17:02:36.387667Z",
     "iopub.status.busy": "2025-04-11T17:02:36.387385Z",
     "iopub.status.idle": "2025-04-11T17:02:36.408443Z",
     "shell.execute_reply": "2025-04-11T17:02:36.407274Z"
    },
    "papermill": {
     "duration": 0.036263,
     "end_time": "2025-04-11T17:02:36.409820",
     "exception": false,
     "start_time": "2025-04-11T17:02:36.373557",
     "status": "completed"
    },
    "tags": []
   },
   "outputs": [
    {
     "name": "stdout",
     "output_type": "stream",
     "text": [
      "<class 'pandas.core.frame.DataFrame'>\n",
      "RangeIndex: 200 entries, 0 to 199\n",
      "Data columns (total 6 columns):\n",
      " #   Column       Non-Null Count  Dtype  \n",
      "---  ------       --------------  -----  \n",
      " 0   Age          200 non-null    int64  \n",
      " 1   Sex          200 non-null    object \n",
      " 2   BP           200 non-null    object \n",
      " 3   Cholesterol  200 non-null    object \n",
      " 4   Na_to_K      200 non-null    float64\n",
      " 5   Drug         200 non-null    object \n",
      "dtypes: float64(1), int64(1), object(4)\n",
      "memory usage: 9.5+ KB\n"
     ]
    }
   ],
   "source": [
    "drug_df.info()"
   ]
  },
  {
   "cell_type": "markdown",
   "id": "a0517c53",
   "metadata": {
    "papermill": {
     "duration": 0.01183,
     "end_time": "2025-04-11T17:02:36.435381",
     "exception": false,
     "start_time": "2025-04-11T17:02:36.423551",
     "status": "completed"
    },
    "tags": []
   },
   "source": [
    "## Show unique values and it's count in the categorical columns"
   ]
  },
  {
   "cell_type": "code",
   "execution_count": 5,
   "id": "7d6e52a5",
   "metadata": {
    "execution": {
     "iopub.execute_input": "2025-04-11T17:02:36.459903Z",
     "iopub.status.busy": "2025-04-11T17:02:36.459639Z",
     "iopub.status.idle": "2025-04-11T17:02:36.468173Z",
     "shell.execute_reply": "2025-04-11T17:02:36.467244Z"
    },
    "papermill": {
     "duration": 0.022156,
     "end_time": "2025-04-11T17:02:36.469471",
     "exception": false,
     "start_time": "2025-04-11T17:02:36.447315",
     "status": "completed"
    },
    "tags": []
   },
   "outputs": [
    {
     "name": "stdout",
     "output_type": "stream",
     "text": [
      "Sex\n",
      "M    104\n",
      "F     96\n",
      "Name: count, dtype: int64 \n",
      "-----------\n",
      "\n",
      "BP\n",
      "HIGH      77\n",
      "LOW       64\n",
      "NORMAL    59\n",
      "Name: count, dtype: int64 \n",
      "-----------\n",
      "\n",
      "Cholesterol\n",
      "HIGH      103\n",
      "NORMAL     97\n",
      "Name: count, dtype: int64 \n",
      "-----------\n",
      "\n",
      "Drug\n",
      "DrugY    91\n",
      "drugX    54\n",
      "drugA    23\n",
      "drugC    16\n",
      "drugB    16\n",
      "Name: count, dtype: int64 \n",
      "-----------\n",
      "\n"
     ]
    }
   ],
   "source": [
    "columns_name = drug_df.select_dtypes(include = \"object\").columns\n",
    "for column in columns_name:\n",
    "    print(f\"{drug_df[column].value_counts()} \\n-----------\\n\")"
   ]
  },
  {
   "cell_type": "code",
   "execution_count": 6,
   "id": "c81e68c5",
   "metadata": {
    "execution": {
     "iopub.execute_input": "2025-04-11T17:02:36.494560Z",
     "iopub.status.busy": "2025-04-11T17:02:36.494328Z",
     "iopub.status.idle": "2025-04-11T17:02:36.498740Z",
     "shell.execute_reply": "2025-04-11T17:02:36.498119Z"
    },
    "papermill": {
     "duration": 0.01818,
     "end_time": "2025-04-11T17:02:36.499992",
     "exception": false,
     "start_time": "2025-04-11T17:02:36.481812",
     "status": "completed"
    },
    "tags": []
   },
   "outputs": [
    {
     "data": {
      "text/plain": [
       "Index(['Age', 'Sex', 'BP', 'Cholesterol', 'Na_to_K', 'Drug'], dtype='object')"
      ]
     },
     "execution_count": 6,
     "metadata": {},
     "output_type": "execute_result"
    }
   ],
   "source": [
    "drug_df.columns"
   ]
  },
  {
   "cell_type": "markdown",
   "id": "d12d1627",
   "metadata": {
    "papermill": {
     "duration": 0.011605,
     "end_time": "2025-04-11T17:02:36.523758",
     "exception": false,
     "start_time": "2025-04-11T17:02:36.512153",
     "status": "completed"
    },
    "tags": []
   },
   "source": [
    "# Show count of Categorical data & if there outlier in numerical "
   ]
  },
  {
   "cell_type": "code",
   "execution_count": 7,
   "id": "d7d2457b",
   "metadata": {
    "execution": {
     "iopub.execute_input": "2025-04-11T17:02:36.548426Z",
     "iopub.status.busy": "2025-04-11T17:02:36.548180Z",
     "iopub.status.idle": "2025-04-11T17:02:37.755377Z",
     "shell.execute_reply": "2025-04-11T17:02:37.754529Z"
    },
    "papermill": {
     "duration": 1.221039,
     "end_time": "2025-04-11T17:02:37.756715",
     "exception": false,
     "start_time": "2025-04-11T17:02:36.535676",
     "status": "completed"
    },
    "tags": []
   },
   "outputs": [
    {
     "data": {
      "text/plain": [
       "<Axes: xlabel='Na_to_K'>"
      ]
     },
     "execution_count": 7,
     "metadata": {},
     "output_type": "execute_result"
    },
    {
     "data": {
      "image/png": "[encoded data removed]",
      "text/plain": [
       "<Figure size 2000x2000 with 6 Axes>"
      ]
     },
     "metadata": {},
     "output_type": "display_data"
    }
   ],
   "source": [
    "figure , ax = plt.subplots(3,2,figsize=(20,20))\n",
    "\n",
    "\n",
    "sns.countplot(ax=ax[0,0],x=drug_df[\"Sex\"],hue=drug_df[\"Sex\"])\n",
    "sns.countplot(ax=ax[0,1],x=drug_df[\"BP\"])\n",
    "sns.countplot(ax=ax[1,0],x=drug_df[\"Cholesterol\"])\n",
    "sns.countplot(ax=ax[1,1],x=drug_df[\"Drug\"])\n",
    "sns.boxplot(ax=ax[2,0],x=drug_df[\"Age\"])\n",
    "sns.boxplot(ax=ax[2,1],x=drug_df[\"Na_to_K\"])"
   ]
  },
  {
   "cell_type": "markdown",
   "id": "d9b8ccba",
   "metadata": {
    "papermill": {
     "duration": 0.013815,
     "end_time": "2025-04-11T17:02:37.784740",
     "exception": false,
     "start_time": "2025-04-11T17:02:37.770925",
     "status": "completed"
    },
    "tags": []
   },
   "source": [
    "# -->> We found that Drug columns have imbalanced categories \n",
    "# -->> Na_to_K columns have some outliers"
   ]
  },
  {
   "cell_type": "markdown",
   "id": "bfbde7be",
   "metadata": {
    "papermill": {
     "duration": 0.013421,
     "end_time": "2025-04-11T17:02:37.812158",
     "exception": false,
     "start_time": "2025-04-11T17:02:37.798737",
     "status": "completed"
    },
    "tags": []
   },
   "source": [
    "# Describe the numerical columns in statical way"
   ]
  },
  {
   "cell_type": "code",
   "execution_count": 8,
   "id": "e39e9b29",
   "metadata": {
    "execution": {
     "iopub.execute_input": "2025-04-11T17:02:37.840986Z",
     "iopub.status.busy": "2025-04-11T17:02:37.840688Z",
     "iopub.status.idle": "2025-04-11T17:02:37.854661Z",
     "shell.execute_reply": "2025-04-11T17:02:37.853717Z"
    },
    "papermill": {
     "duration": 0.0298,
     "end_time": "2025-04-11T17:02:37.855961",
     "exception": false,
     "start_time": "2025-04-11T17:02:37.826161",
     "status": "completed"
    },
    "tags": []
   },
   "outputs": [
    {
     "data": {
      "text/html": [
       "<div>\n",
       "<style scoped>\n",
       "    .dataframe tbody tr th:only-of-type {\n",
       "        vertical-align: middle;\n",
       "    }\n",
       "\n",
       "    .dataframe tbody tr th {\n",
       "        vertical-align: top;\n",
       "    }\n",
       "\n",
       "    .dataframe thead th {\n",
       "        text-align: right;\n",
       "    }\n",
       "</style>\n",
       "<table border=\"1\" class=\"dataframe\">\n",
       "  <thead>\n",
       "    <tr style=\"text-align: right;\">\n",
       "      <th></th>\n",
       "      <th>Age</th>\n",
       "      <th>Na_to_K</th>\n",
       "    </tr>\n",
       "  </thead>\n",
       "  <tbody>\n",
       "    <tr>\n",
       "      <th>count</th>\n",
       "      <td>200.00</td>\n",
       "      <td>200.00</td>\n",
       "    </tr>\n",
       "    <tr>\n",
       "      <th>mean</th>\n",
       "      <td>44.32</td>\n",
       "      <td>16.08</td>\n",
       "    </tr>\n",
       "    <tr>\n",
       "      <th>std</th>\n",
       "      <td>16.54</td>\n",
       "      <td>7.22</td>\n",
       "    </tr>\n",
       "    <tr>\n",
       "      <th>min</th>\n",
       "      <td>15.00</td>\n",
       "      <td>6.27</td>\n",
       "    </tr>\n",
       "    <tr>\n",
       "      <th>25%</th>\n",
       "      <td>31.00</td>\n",
       "      <td>10.45</td>\n",
       "    </tr>\n",
       "    <tr>\n",
       "      <th>50%</th>\n",
       "      <td>45.00</td>\n",
       "      <td>13.94</td>\n",
       "    </tr>\n",
       "    <tr>\n",
       "      <th>75%</th>\n",
       "      <td>58.00</td>\n",
       "      <td>19.38</td>\n",
       "    </tr>\n",
       "    <tr>\n",
       "      <th>max</th>\n",
       "      <td>74.00</td>\n",
       "      <td>38.25</td>\n",
       "    </tr>\n",
       "  </tbody>\n",
       "</table>\n",
       "</div>"
      ],
      "text/plain": [
       "          Age  Na_to_K\n",
       "count  200.00   200.00\n",
       "mean    44.32    16.08\n",
       "std     16.54     7.22\n",
       "min     15.00     6.27\n",
       "25%     31.00    10.45\n",
       "50%     45.00    13.94\n",
       "75%     58.00    19.38\n",
       "max     74.00    38.25"
      ]
     },
     "execution_count": 8,
     "metadata": {},
     "output_type": "execute_result"
    }
   ],
   "source": [
    "drug_df.describe().round(2)"
   ]
  },
  {
   "cell_type": "markdown",
   "id": "93e4b79c",
   "metadata": {
    "papermill": {
     "duration": 0.013861,
     "end_time": "2025-04-11T17:02:37.884029",
     "exception": false,
     "start_time": "2025-04-11T17:02:37.870168",
     "status": "completed"
    },
    "tags": []
   },
   "source": [
    "## Show Trends in the numerical data"
   ]
  },
  {
   "cell_type": "code",
   "execution_count": 9,
   "id": "a36a93bc",
   "metadata": {
    "execution": {
     "iopub.execute_input": "2025-04-11T17:02:37.950345Z",
     "iopub.status.busy": "2025-04-11T17:02:37.949995Z",
     "iopub.status.idle": "2025-04-11T17:02:38.529178Z",
     "shell.execute_reply": "2025-04-11T17:02:38.528274Z"
    },
    "papermill": {
     "duration": 0.634082,
     "end_time": "2025-04-11T17:02:38.531975",
     "exception": false,
     "start_time": "2025-04-11T17:02:37.897893",
     "status": "completed"
    },
    "tags": []
   },
   "outputs": [
    {
     "data": {
      "text/plain": [
       "array([<Axes: >, <Axes: >], dtype=object)"
      ]
     },
     "execution_count": 9,
     "metadata": {},
     "output_type": "execute_result"
    },
    {
     "data": {
      "image/png": "[encoded data removed]",
      "text/plain": [
       "<Figure size 1600x600 with 2 Axes>"
      ]
     },
     "metadata": {},
     "output_type": "display_data"
    }
   ],
   "source": [
    "drug_df.plot(subplots= True,figsize=(16,6))"
   ]
  },
  {
   "cell_type": "markdown",
   "id": "879933d6",
   "metadata": {
    "papermill": {
     "duration": 0.018986,
     "end_time": "2025-04-11T17:02:38.570394",
     "exception": false,
     "start_time": "2025-04-11T17:02:38.551408",
     "status": "completed"
    },
    "tags": []
   },
   "source": [
    "## Show if there is Null values"
   ]
  },
  {
   "cell_type": "code",
   "execution_count": 10,
   "id": "1f35fe0a",
   "metadata": {
    "execution": {
     "iopub.execute_input": "2025-04-11T17:02:38.610512Z",
     "iopub.status.busy": "2025-04-11T17:02:38.610224Z",
     "iopub.status.idle": "2025-04-11T17:02:38.616686Z",
     "shell.execute_reply": "2025-04-11T17:02:38.615925Z"
    },
    "papermill": {
     "duration": 0.027533,
     "end_time": "2025-04-11T17:02:38.618054",
     "exception": false,
     "start_time": "2025-04-11T17:02:38.590521",
     "status": "completed"
    },
    "tags": []
   },
   "outputs": [
    {
     "data": {
      "text/plain": [
       "Age            0\n",
       "Sex            0\n",
       "BP             0\n",
       "Cholesterol    0\n",
       "Na_to_K        0\n",
       "Drug           0\n",
       "dtype: int64"
      ]
     },
     "execution_count": 10,
     "metadata": {},
     "output_type": "execute_result"
    }
   ],
   "source": [
    "drug_df.isna().sum()"
   ]
  },
  {
   "cell_type": "markdown",
   "id": "766637e1",
   "metadata": {
    "papermill": {
     "duration": 0.018576,
     "end_time": "2025-04-11T17:02:38.655702",
     "exception": false,
     "start_time": "2025-04-11T17:02:38.637126",
     "status": "completed"
    },
    "tags": []
   },
   "source": [
    "# Show if there is duplicatied data"
   ]
  },
  {
   "cell_type": "code",
   "execution_count": 11,
   "id": "4f07f8c0",
   "metadata": {
    "execution": {
     "iopub.execute_input": "2025-04-11T17:02:38.697396Z",
     "iopub.status.busy": "2025-04-11T17:02:38.697074Z",
     "iopub.status.idle": "2025-04-11T17:02:38.704166Z",
     "shell.execute_reply": "2025-04-11T17:02:38.703373Z"
    },
    "papermill": {
     "duration": 0.028675,
     "end_time": "2025-04-11T17:02:38.705573",
     "exception": false,
     "start_time": "2025-04-11T17:02:38.676898",
     "status": "completed"
    },
    "tags": []
   },
   "outputs": [
    {
     "data": {
      "text/plain": [
       "0"
      ]
     },
     "execution_count": 11,
     "metadata": {},
     "output_type": "execute_result"
    }
   ],
   "source": [
    "drug_df.duplicated().sum()"
   ]
  },
  {
   "cell_type": "markdown",
   "id": "89592ba0",
   "metadata": {
    "papermill": {
     "duration": 0.018797,
     "end_time": "2025-04-11T17:02:38.743473",
     "exception": false,
     "start_time": "2025-04-11T17:02:38.724676",
     "status": "completed"
    },
    "tags": []
   },
   "source": [
    "# Now will apply IQR on Na_to_K Column"
   ]
  },
  {
   "cell_type": "code",
   "execution_count": 12,
   "id": "4f3ba315",
   "metadata": {
    "execution": {
     "iopub.execute_input": "2025-04-11T17:02:38.781999Z",
     "iopub.status.busy": "2025-04-11T17:02:38.781726Z",
     "iopub.status.idle": "2025-04-11T17:02:38.787552Z",
     "shell.execute_reply": "2025-04-11T17:02:38.786609Z"
    },
    "papermill": {
     "duration": 0.026955,
     "end_time": "2025-04-11T17:02:38.788970",
     "exception": false,
     "start_time": "2025-04-11T17:02:38.762015",
     "status": "completed"
    },
    "tags": []
   },
   "outputs": [
    {
     "name": "stdout",
     "output_type": "stream",
     "text": [
      "10.4455\n",
      "19.38\n"
     ]
    }
   ],
   "source": [
    "percent_25=  np.percentile(drug_df[\"Na_to_K\"],25)\n",
    "print(percent_25)\n",
    "percent_75=  np.percentile(drug_df[\"Na_to_K\"],75)\n",
    "print(percent_75)"
   ]
  },
  {
   "cell_type": "code",
   "execution_count": 13,
   "id": "c490812f",
   "metadata": {
    "execution": {
     "iopub.execute_input": "2025-04-11T17:02:38.826989Z",
     "iopub.status.busy": "2025-04-11T17:02:38.826769Z",
     "iopub.status.idle": "2025-04-11T17:02:38.831287Z",
     "shell.execute_reply": "2025-04-11T17:02:38.830574Z"
    },
    "papermill": {
     "duration": 0.024674,
     "end_time": "2025-04-11T17:02:38.832596",
     "exception": false,
     "start_time": "2025-04-11T17:02:38.807922",
     "status": "completed"
    },
    "tags": []
   },
   "outputs": [
    {
     "data": {
      "text/plain": [
       "8.9345"
      ]
     },
     "execution_count": 13,
     "metadata": {},
     "output_type": "execute_result"
    }
   ],
   "source": [
    "IQR = percent_75 - percent_25 \n",
    "IQR"
   ]
  },
  {
   "cell_type": "code",
   "execution_count": 14,
   "id": "b98d8b21",
   "metadata": {
    "execution": {
     "iopub.execute_input": "2025-04-11T17:02:38.870573Z",
     "iopub.status.busy": "2025-04-11T17:02:38.870365Z",
     "iopub.status.idle": "2025-04-11T17:02:38.874505Z",
     "shell.execute_reply": "2025-04-11T17:02:38.873674Z"
    },
    "papermill": {
     "duration": 0.024554,
     "end_time": "2025-04-11T17:02:38.875671",
     "exception": false,
     "start_time": "2025-04-11T17:02:38.851117",
     "status": "completed"
    },
    "tags": []
   },
   "outputs": [
    {
     "name": "stdout",
     "output_type": "stream",
     "text": [
      "lower is  -2.9562500000000007,  and upper is 32.78175\n"
     ]
    }
   ],
   "source": [
    "upper_filter = percent_75 + (IQR*1.5)\n",
    "lower_filter = percent_25 - (IQR*1.5)\n",
    "\n",
    "print(f\"lower is  {lower_filter},  and upper is {upper_filter}\")"
   ]
  },
  {
   "cell_type": "code",
   "execution_count": 15,
   "id": "de153d5c",
   "metadata": {
    "execution": {
     "iopub.execute_input": "2025-04-11T17:02:38.913001Z",
     "iopub.status.busy": "2025-04-11T17:02:38.912784Z",
     "iopub.status.idle": "2025-04-11T17:02:38.917169Z",
     "shell.execute_reply": "2025-04-11T17:02:38.916540Z"
    },
    "papermill": {
     "duration": 0.023914,
     "end_time": "2025-04-11T17:02:38.918434",
     "exception": false,
     "start_time": "2025-04-11T17:02:38.894520",
     "status": "completed"
    },
    "tags": []
   },
   "outputs": [
    {
     "data": {
      "text/plain": [
       "13.9365"
      ]
     },
     "execution_count": 15,
     "metadata": {},
     "output_type": "execute_result"
    }
   ],
   "source": [
    "na_k_median=drug_df[\"Na_to_K\"].median()\n",
    "na_k_median"
   ]
  },
  {
   "cell_type": "code",
   "execution_count": 16,
   "id": "be07a6f6",
   "metadata": {
    "execution": {
     "iopub.execute_input": "2025-04-11T17:02:38.955702Z",
     "iopub.status.busy": "2025-04-11T17:02:38.955440Z",
     "iopub.status.idle": "2025-04-11T17:02:38.961174Z",
     "shell.execute_reply": "2025-04-11T17:02:38.960230Z"
    },
    "papermill": {
     "duration": 0.02598,
     "end_time": "2025-04-11T17:02:38.962567",
     "exception": false,
     "start_time": "2025-04-11T17:02:38.936587",
     "status": "completed"
    },
    "tags": []
   },
   "outputs": [
    {
     "name": "stderr",
     "output_type": "stream",
     "text": [
      "<ipython-input-16-3e2c8643a596>:1: SettingWithCopyWarning: \n",
      "A value is trying to be set on a copy of a slice from a DataFrame.\n",
      "Try using .loc[row_indexer,col_indexer] = value instead\n",
      "\n",
      "See the caveats in the documentation: https://pandas.pydata.org/pandas-docs/stable/user_guide/indexing.html#returning-a-view-versus-a-copy\n",
      "  drug_df[(drug_df[\"Na_to_K\"] > upper_filter) | (drug_df[\"Na_to_K\"] < lower_filter)][\"Na_to_K\"] =na_k_median\n"
     ]
    }
   ],
   "source": [
    "drug_df[(drug_df[\"Na_to_K\"] > upper_filter) | (drug_df[\"Na_to_K\"] < lower_filter)][\"Na_to_K\"] =na_k_median"
   ]
  },
  {
   "cell_type": "code",
   "execution_count": null,
   "id": "ab6a6a8c",
   "metadata": {
    "papermill": {
     "duration": 0.017686,
     "end_time": "2025-04-11T17:02:38.998823",
     "exception": false,
     "start_time": "2025-04-11T17:02:38.981137",
     "status": "completed"
    },
    "tags": []
   },
   "outputs": [],
   "source": []
  },
  {
   "cell_type": "code",
   "execution_count": 17,
   "id": "9f27d50f",
   "metadata": {
    "execution": {
     "iopub.execute_input": "2025-04-11T17:02:39.035124Z",
     "iopub.status.busy": "2025-04-11T17:02:39.034867Z",
     "iopub.status.idle": "2025-04-11T17:02:39.037595Z",
     "shell.execute_reply": "2025-04-11T17:02:39.036984Z"
    },
    "papermill": {
     "duration": 0.021981,
     "end_time": "2025-04-11T17:02:39.038736",
     "exception": false,
     "start_time": "2025-04-11T17:02:39.016755",
     "status": "completed"
    },
    "tags": []
   },
   "outputs": [],
   "source": [
    "# drug_df = drug_df[(drug_df[\"Na_to_K\"] < upper_filter) & (drug_df[\"Na_to_K\"] > lower_filter)]\n",
    "\n"
   ]
  },
  {
   "cell_type": "code",
   "execution_count": 18,
   "id": "32c3a09a",
   "metadata": {
    "execution": {
     "iopub.execute_input": "2025-04-11T17:02:39.075408Z",
     "iopub.status.busy": "2025-04-11T17:02:39.075176Z",
     "iopub.status.idle": "2025-04-11T17:02:39.078808Z",
     "shell.execute_reply": "2025-04-11T17:02:39.078224Z"
    },
    "papermill": {
     "duration": 0.02279,
     "end_time": "2025-04-11T17:02:39.080045",
     "exception": false,
     "start_time": "2025-04-11T17:02:39.057255",
     "status": "completed"
    },
    "tags": []
   },
   "outputs": [],
   "source": [
    "drug_df.reset_index(inplace=True)"
   ]
  },
  {
   "cell_type": "code",
   "execution_count": 19,
   "id": "2acb0997",
   "metadata": {
    "execution": {
     "iopub.execute_input": "2025-04-11T17:02:39.117905Z",
     "iopub.status.busy": "2025-04-11T17:02:39.117646Z",
     "iopub.status.idle": "2025-04-11T17:02:39.123334Z",
     "shell.execute_reply": "2025-04-11T17:02:39.122634Z"
    },
    "papermill": {
     "duration": 0.02572,
     "end_time": "2025-04-11T17:02:39.124493",
     "exception": false,
     "start_time": "2025-04-11T17:02:39.098773",
     "status": "completed"
    },
    "tags": []
   },
   "outputs": [
    {
     "data": {
      "text/plain": [
       "0    25.355\n",
       "1    13.093\n",
       "2    10.114\n",
       "3     7.798\n",
       "4    18.043\n",
       "Name: Na_to_K, dtype: float64"
      ]
     },
     "execution_count": 19,
     "metadata": {},
     "output_type": "execute_result"
    }
   ],
   "source": [
    "drug_df[\"Na_to_K\"].head()"
   ]
  },
  {
   "cell_type": "code",
   "execution_count": 20,
   "id": "61df06de",
   "metadata": {
    "execution": {
     "iopub.execute_input": "2025-04-11T17:02:39.163804Z",
     "iopub.status.busy": "2025-04-11T17:02:39.163555Z",
     "iopub.status.idle": "2025-04-11T17:02:39.171620Z",
     "shell.execute_reply": "2025-04-11T17:02:39.170882Z"
    },
    "papermill": {
     "duration": 0.029571,
     "end_time": "2025-04-11T17:02:39.172941",
     "exception": false,
     "start_time": "2025-04-11T17:02:39.143370",
     "status": "completed"
    },
    "tags": []
   },
   "outputs": [
    {
     "data": {
      "text/plain": [
       "count    200.000000\n",
       "mean      16.084485\n",
       "std        7.223956\n",
       "min        6.269000\n",
       "25%       10.445500\n",
       "50%       13.936500\n",
       "75%       19.380000\n",
       "max       38.247000\n",
       "Name: Na_to_K, dtype: float64"
      ]
     },
     "execution_count": 20,
     "metadata": {},
     "output_type": "execute_result"
    }
   ],
   "source": [
    "drug_df[\"Na_to_K\"].describe()"
   ]
  },
  {
   "cell_type": "code",
   "execution_count": 21,
   "id": "659d55aa",
   "metadata": {
    "execution": {
     "iopub.execute_input": "2025-04-11T17:02:39.213291Z",
     "iopub.status.busy": "2025-04-11T17:02:39.213032Z",
     "iopub.status.idle": "2025-04-11T17:02:39.501668Z",
     "shell.execute_reply": "2025-04-11T17:02:39.500733Z"
    },
    "papermill": {
     "duration": 0.310194,
     "end_time": "2025-04-11T17:02:39.503095",
     "exception": false,
     "start_time": "2025-04-11T17:02:39.192901",
     "status": "completed"
    },
    "tags": []
   },
   "outputs": [
    {
     "data": {
      "text/plain": [
       "<function matplotlib.pyplot.show(close=None, block=None)>"
      ]
     },
     "execution_count": 21,
     "metadata": {},
     "output_type": "execute_result"
    },
    {
     "data": {
      "image/png": "[encoded data removed]",
      "text/plain": [
       "<Figure size 1600x600 with 1 Axes>"
      ]
     },
     "metadata": {},
     "output_type": "display_data"
    }
   ],
   "source": [
    "plt.figure(figsize=(16,6))\n",
    "\n",
    "sns.boxplot(x=drug_df[\"Na_to_K\"])\n",
    "plt.show"
   ]
  },
  {
   "cell_type": "code",
   "execution_count": 22,
   "id": "b766d520",
   "metadata": {
    "execution": {
     "iopub.execute_input": "2025-04-11T17:02:39.546721Z",
     "iopub.status.busy": "2025-04-11T17:02:39.546456Z",
     "iopub.status.idle": "2025-04-11T17:02:41.836856Z",
     "shell.execute_reply": "2025-04-11T17:02:41.835871Z"
    },
    "papermill": {
     "duration": 2.312706,
     "end_time": "2025-04-11T17:02:41.839023",
     "exception": false,
     "start_time": "2025-04-11T17:02:39.526317",
     "status": "completed"
    },
    "tags": []
   },
   "outputs": [
    {
     "name": "stderr",
     "output_type": "stream",
     "text": [
      "/usr/local/lib/python3.10/dist-packages/seaborn/_oldcore.py:1119: FutureWarning: use_inf_as_na option is deprecated and will be removed in a future version. Convert inf values to NaN before operating instead.\n",
      "  with pd.option_context('mode.use_inf_as_na', True):\n",
      "/usr/local/lib/python3.10/dist-packages/seaborn/_oldcore.py:1119: FutureWarning: use_inf_as_na option is deprecated and will be removed in a future version. Convert inf values to NaN before operating instead.\n",
      "  with pd.option_context('mode.use_inf_as_na', True):\n",
      "/usr/local/lib/python3.10/dist-packages/seaborn/_oldcore.py:1119: FutureWarning: use_inf_as_na option is deprecated and will be removed in a future version. Convert inf values to NaN before operating instead.\n",
      "  with pd.option_context('mode.use_inf_as_na', True):\n"
     ]
    },
    {
     "data": {
      "text/plain": [
       "<Figure size 1600x1000 with 0 Axes>"
      ]
     },
     "metadata": {},
     "output_type": "display_data"
    },
    {
     "data": {
      "image/png": "[encoded data removed]",
      "text/plain": [
       "<Figure size 750x750 with 12 Axes>"
      ]
     },
     "metadata": {},
     "output_type": "display_data"
    }
   ],
   "source": [
    "plt.figure(figsize=(16,10))\n",
    "sns.pairplot(drug_df)\n",
    "plt.show()"
   ]
  },
  {
   "cell_type": "code",
   "execution_count": 23,
   "id": "4a95d14f",
   "metadata": {
    "execution": {
     "iopub.execute_input": "2025-04-11T17:02:41.883499Z",
     "iopub.status.busy": "2025-04-11T17:02:41.883251Z",
     "iopub.status.idle": "2025-04-11T17:02:41.892505Z",
     "shell.execute_reply": "2025-04-11T17:02:41.891692Z"
    },
    "papermill": {
     "duration": 0.031759,
     "end_time": "2025-04-11T17:02:41.893752",
     "exception": false,
     "start_time": "2025-04-11T17:02:41.861993",
     "status": "completed"
    },
    "tags": []
   },
   "outputs": [
    {
     "data": {
      "text/html": [
       "<div>\n",
       "<style scoped>\n",
       "    .dataframe tbody tr th:only-of-type {\n",
       "        vertical-align: middle;\n",
       "    }\n",
       "\n",
       "    .dataframe tbody tr th {\n",
       "        vertical-align: top;\n",
       "    }\n",
       "\n",
       "    .dataframe thead th {\n",
       "        text-align: right;\n",
       "    }\n",
       "</style>\n",
       "<table border=\"1\" class=\"dataframe\">\n",
       "  <thead>\n",
       "    <tr style=\"text-align: right;\">\n",
       "      <th></th>\n",
       "      <th>index</th>\n",
       "      <th>Age</th>\n",
       "      <th>Sex</th>\n",
       "      <th>BP</th>\n",
       "      <th>Cholesterol</th>\n",
       "      <th>Na_to_K</th>\n",
       "      <th>Drug</th>\n",
       "    </tr>\n",
       "  </thead>\n",
       "  <tbody>\n",
       "    <tr>\n",
       "      <th>0</th>\n",
       "      <td>0</td>\n",
       "      <td>23</td>\n",
       "      <td>F</td>\n",
       "      <td>HIGH</td>\n",
       "      <td>HIGH</td>\n",
       "      <td>25.355</td>\n",
       "      <td>DrugY</td>\n",
       "    </tr>\n",
       "    <tr>\n",
       "      <th>1</th>\n",
       "      <td>1</td>\n",
       "      <td>47</td>\n",
       "      <td>M</td>\n",
       "      <td>LOW</td>\n",
       "      <td>HIGH</td>\n",
       "      <td>13.093</td>\n",
       "      <td>drugC</td>\n",
       "    </tr>\n",
       "    <tr>\n",
       "      <th>2</th>\n",
       "      <td>2</td>\n",
       "      <td>47</td>\n",
       "      <td>M</td>\n",
       "      <td>LOW</td>\n",
       "      <td>HIGH</td>\n",
       "      <td>10.114</td>\n",
       "      <td>drugC</td>\n",
       "    </tr>\n",
       "    <tr>\n",
       "      <th>3</th>\n",
       "      <td>3</td>\n",
       "      <td>28</td>\n",
       "      <td>F</td>\n",
       "      <td>NORMAL</td>\n",
       "      <td>HIGH</td>\n",
       "      <td>7.798</td>\n",
       "      <td>drugX</td>\n",
       "    </tr>\n",
       "    <tr>\n",
       "      <th>4</th>\n",
       "      <td>4</td>\n",
       "      <td>61</td>\n",
       "      <td>F</td>\n",
       "      <td>LOW</td>\n",
       "      <td>HIGH</td>\n",
       "      <td>18.043</td>\n",
       "      <td>DrugY</td>\n",
       "    </tr>\n",
       "  </tbody>\n",
       "</table>\n",
       "</div>"
      ],
      "text/plain": [
       "   index  Age Sex      BP Cholesterol  Na_to_K   Drug\n",
       "0      0   23   F    HIGH        HIGH   25.355  DrugY\n",
       "1      1   47   M     LOW        HIGH   13.093  drugC\n",
       "2      2   47   M     LOW        HIGH   10.114  drugC\n",
       "3      3   28   F  NORMAL        HIGH    7.798  drugX\n",
       "4      4   61   F     LOW        HIGH   18.043  DrugY"
      ]
     },
     "execution_count": 23,
     "metadata": {},
     "output_type": "execute_result"
    }
   ],
   "source": [
    "drug_df.head()"
   ]
  },
  {
   "cell_type": "markdown",
   "id": "723375b6",
   "metadata": {
    "papermill": {
     "duration": 0.020585,
     "end_time": "2025-04-11T17:02:41.935380",
     "exception": false,
     "start_time": "2025-04-11T17:02:41.914795",
     "status": "completed"
    },
    "tags": []
   },
   "source": [
    "# Visulization "
   ]
  },
  {
   "cell_type": "code",
   "execution_count": 24,
   "id": "425b5867",
   "metadata": {
    "execution": {
     "iopub.execute_input": "2025-04-11T17:02:41.980114Z",
     "iopub.status.busy": "2025-04-11T17:02:41.979818Z",
     "iopub.status.idle": "2025-04-11T17:02:41.985934Z",
     "shell.execute_reply": "2025-04-11T17:02:41.985276Z"
    },
    "papermill": {
     "duration": 0.030231,
     "end_time": "2025-04-11T17:02:41.987238",
     "exception": false,
     "start_time": "2025-04-11T17:02:41.957007",
     "status": "completed"
    },
    "tags": []
   },
   "outputs": [
    {
     "data": {
      "text/plain": [
       "<Figure size 1600x600 with 0 Axes>"
      ]
     },
     "metadata": {},
     "output_type": "display_data"
    }
   ],
   "source": [
    "fig= plt.figure(figsize=(16,6))\n",
    "sh= plt.show()"
   ]
  },
  {
   "cell_type": "markdown",
   "id": "f075575f",
   "metadata": {
    "papermill": {
     "duration": 0.020964,
     "end_time": "2025-04-11T17:02:42.028908",
     "exception": false,
     "start_time": "2025-04-11T17:02:42.007944",
     "status": "completed"
    },
    "tags": []
   },
   "source": [
    "# Lets see if there a ralation between person age and his Na to K ratio"
   ]
  },
  {
   "cell_type": "code",
   "execution_count": 25,
   "id": "296d8fde",
   "metadata": {
    "execution": {
     "iopub.execute_input": "2025-04-11T17:02:42.071579Z",
     "iopub.status.busy": "2025-04-11T17:02:42.071365Z",
     "iopub.status.idle": "2025-04-11T17:02:42.421061Z",
     "shell.execute_reply": "2025-04-11T17:02:42.420303Z"
    },
    "papermill": {
     "duration": 0.373766,
     "end_time": "2025-04-11T17:02:42.423134",
     "exception": false,
     "start_time": "2025-04-11T17:02:42.049368",
     "status": "completed"
    },
    "tags": []
   },
   "outputs": [
    {
     "data": {
      "image/png": "[encoded data removed]",
      "text/plain": [
       "<Figure size 640x480 with 1 Axes>"
      ]
     },
     "metadata": {},
     "output_type": "display_data"
    }
   ],
   "source": [
    "fig\n",
    "sns.scatterplot(x= drug_df[\"Na_to_K\"],y=drug_df[\"Age\"],hue= drug_df[\"Sex\"])\n",
    "sh"
   ]
  },
  {
   "cell_type": "markdown",
   "id": "f1e541c5",
   "metadata": {
    "papermill": {
     "duration": 0.021728,
     "end_time": "2025-04-11T17:02:42.469075",
     "exception": false,
     "start_time": "2025-04-11T17:02:42.447347",
     "status": "completed"
    },
    "tags": []
   },
   "source": [
    "### Here we found that there isn't any relation between person age and his Na to K ratio\n",
    "<hr>"
   ]
  },
  {
   "cell_type": "markdown",
   "id": "c4819a91",
   "metadata": {
    "papermill": {
     "duration": 0.021935,
     "end_time": "2025-04-11T17:02:42.513069",
     "exception": false,
     "start_time": "2025-04-11T17:02:42.491134",
     "status": "completed"
    },
    "tags": []
   },
   "source": [
    "# See if there is relation between person age and his blood level"
   ]
  },
  {
   "cell_type": "code",
   "execution_count": 26,
   "id": "d70c112b",
   "metadata": {
    "execution": {
     "iopub.execute_input": "2025-04-11T17:02:42.558319Z",
     "iopub.status.busy": "2025-04-11T17:02:42.558012Z",
     "iopub.status.idle": "2025-04-11T17:02:42.915798Z",
     "shell.execute_reply": "2025-04-11T17:02:42.914981Z"
    },
    "papermill": {
     "duration": 0.382222,
     "end_time": "2025-04-11T17:02:42.917357",
     "exception": false,
     "start_time": "2025-04-11T17:02:42.535135",
     "status": "completed"
    },
    "tags": []
   },
   "outputs": [
    {
     "data": {
      "image/png": "[encoded data removed]",
      "text/plain": [
       "<Figure size 640x480 with 1 Axes>"
      ]
     },
     "metadata": {},
     "output_type": "display_data"
    }
   ],
   "source": [
    "fig\n",
    "sns.boxplot(x= drug_df[\"BP\"],y=drug_df[\"Age\"],hue= drug_df[\"Sex\"])\n",
    "plt.title(\"Blood Pressure Levels \")\n",
    "sh"
   ]
  },
  {
   "cell_type": "markdown",
   "id": "c0f235a1",
   "metadata": {
    "papermill": {
     "duration": 0.022914,
     "end_time": "2025-04-11T17:02:42.965291",
     "exception": false,
     "start_time": "2025-04-11T17:02:42.942377",
     "status": "completed"
    },
    "tags": []
   },
   "source": [
    "### Here found that there isn't relation between person age and his Blood pressure Level\n",
    "<hr>"
   ]
  },
  {
   "cell_type": "markdown",
   "id": "ff030ee1",
   "metadata": {
    "papermill": {
     "duration": 0.022168,
     "end_time": "2025-04-11T17:02:43.009937",
     "exception": false,
     "start_time": "2025-04-11T17:02:42.987769",
     "status": "completed"
    },
    "tags": []
   },
   "source": [
    "# Here We see if Na to K ratio Affect on drug type you should have"
   ]
  },
  {
   "cell_type": "code",
   "execution_count": 27,
   "id": "194c964b",
   "metadata": {
    "execution": {
     "iopub.execute_input": "2025-04-11T17:02:43.055808Z",
     "iopub.status.busy": "2025-04-11T17:02:43.055516Z",
     "iopub.status.idle": "2025-04-11T17:02:43.398795Z",
     "shell.execute_reply": "2025-04-11T17:02:43.397883Z"
    },
    "papermill": {
     "duration": 0.36795,
     "end_time": "2025-04-11T17:02:43.400178",
     "exception": false,
     "start_time": "2025-04-11T17:02:43.032228",
     "status": "completed"
    },
    "tags": []
   },
   "outputs": [
    {
     "data": {
      "image/png": "[encoded data removed]",
      "text/plain": [
       "<Figure size 640x480 with 1 Axes>"
      ]
     },
     "metadata": {},
     "output_type": "display_data"
    }
   ],
   "source": [
    "fig\n",
    "sns.boxplot(x= drug_df[\"Drug\"],y=drug_df[\"Na_to_K\"],hue= drug_df[\"Sex\"])\n",
    "plt.title(\"Na_to_K and drug type\")\n",
    "sh"
   ]
  },
  {
   "cell_type": "markdown",
   "id": "c21de246",
   "metadata": {
    "papermill": {
     "duration": 0.024065,
     "end_time": "2025-04-11T17:02:43.449863",
     "exception": false,
     "start_time": "2025-04-11T17:02:43.425798",
     "status": "completed"
    },
    "tags": []
   },
   "source": [
    "### here we see if  Na_to_K ration between 5 to 15 don't affect can take  A or b or C or X \n",
    "### but if high than 15 it be drug Y  "
   ]
  },
  {
   "cell_type": "code",
   "execution_count": 28,
   "id": "fa433303",
   "metadata": {
    "execution": {
     "iopub.execute_input": "2025-04-11T17:02:43.499996Z",
     "iopub.status.busy": "2025-04-11T17:02:43.499728Z",
     "iopub.status.idle": "2025-04-11T17:02:43.504599Z",
     "shell.execute_reply": "2025-04-11T17:02:43.503723Z"
    },
    "papermill": {
     "duration": 0.031201,
     "end_time": "2025-04-11T17:02:43.505951",
     "exception": false,
     "start_time": "2025-04-11T17:02:43.474750",
     "status": "completed"
    },
    "tags": []
   },
   "outputs": [
    {
     "data": {
      "text/plain": [
       "Index(['index', 'Age', 'Sex', 'BP', 'Cholesterol', 'Na_to_K', 'Drug'], dtype='object')"
      ]
     },
     "execution_count": 28,
     "metadata": {},
     "output_type": "execute_result"
    }
   ],
   "source": [
    "drug_df.columns"
   ]
  },
  {
   "cell_type": "markdown",
   "id": "3a18a886",
   "metadata": {
    "papermill": {
     "duration": 0.023945,
     "end_time": "2025-04-11T17:02:43.554629",
     "exception": false,
     "start_time": "2025-04-11T17:02:43.530684",
     "status": "completed"
    },
    "tags": []
   },
   "source": [
    "# Lets see if there relation between Na_to_K ration and Blood pressure"
   ]
  },
  {
   "cell_type": "code",
   "execution_count": 29,
   "id": "12a5965f",
   "metadata": {
    "execution": {
     "iopub.execute_input": "2025-04-11T17:02:43.604547Z",
     "iopub.status.busy": "2025-04-11T17:02:43.604294Z",
     "iopub.status.idle": "2025-04-11T17:02:43.924661Z",
     "shell.execute_reply": "2025-04-11T17:02:43.923506Z"
    },
    "papermill": {
     "duration": 0.347817,
     "end_time": "2025-04-11T17:02:43.926376",
     "exception": false,
     "start_time": "2025-04-11T17:02:43.578559",
     "status": "completed"
    },
    "tags": []
   },
   "outputs": [
    {
     "data": {
      "image/png": "[encoded data removed]",
      "text/plain": [
       "<Figure size 640x480 with 1 Axes>"
      ]
     },
     "metadata": {},
     "output_type": "display_data"
    }
   ],
   "source": [
    "fig\n",
    "sns.boxplot(x= drug_df[\"BP\"],y=drug_df[\"Na_to_K\"],hue= drug_df[\"Sex\"])\n",
    "plt.title(\"Na_to_k ratio and BP\")\n",
    "sh"
   ]
  },
  {
   "cell_type": "markdown",
   "id": "68d9c018",
   "metadata": {
    "papermill": {
     "duration": 0.029866,
     "end_time": "2025-04-11T17:02:43.987322",
     "exception": false,
     "start_time": "2025-04-11T17:02:43.957456",
     "status": "completed"
    },
    "tags": []
   },
   "source": [
    "# We found that Na_to_k ration there isn't strong relation between it and the BP\n",
    "<hr>"
   ]
  },
  {
   "cell_type": "code",
   "execution_count": 30,
   "id": "9aaf6251",
   "metadata": {
    "execution": {
     "iopub.execute_input": "2025-04-11T17:02:44.043638Z",
     "iopub.status.busy": "2025-04-11T17:02:44.043330Z",
     "iopub.status.idle": "2025-04-11T17:02:44.362105Z",
     "shell.execute_reply": "2025-04-11T17:02:44.361160Z"
    },
    "papermill": {
     "duration": 0.347992,
     "end_time": "2025-04-11T17:02:44.363523",
     "exception": false,
     "start_time": "2025-04-11T17:02:44.015531",
     "status": "completed"
    },
    "tags": []
   },
   "outputs": [
    {
     "data": {
      "image/png": "[encoded data removed]",
      "text/plain": [
       "<Figure size 640x480 with 1 Axes>"
      ]
     },
     "metadata": {},
     "output_type": "display_data"
    }
   ],
   "source": [
    "fig\n",
    "sns.boxplot(x= drug_df[\"BP\"],y=drug_df[\"Na_to_K\"],hue= drug_df[\"Cholesterol\"])\n",
    "plt.title(\"Na_to_k ratio and BP\")\n",
    "sh"
   ]
  },
  {
   "cell_type": "markdown",
   "id": "d4f0825b",
   "metadata": {
    "papermill": {
     "duration": 0.024176,
     "end_time": "2025-04-11T17:02:44.413536",
     "exception": false,
     "start_time": "2025-04-11T17:02:44.389360",
     "status": "completed"
    },
    "tags": []
   },
   "source": [
    "<hr>"
   ]
  },
  {
   "cell_type": "markdown",
   "id": "5ea1d746",
   "metadata": {
    "papermill": {
     "duration": 0.024333,
     "end_time": "2025-04-11T17:02:44.462785",
     "exception": false,
     "start_time": "2025-04-11T17:02:44.438452",
     "status": "completed"
    },
    "tags": []
   },
   "source": [
    "# Is the age effect on the drug type that patient should take ?"
   ]
  },
  {
   "cell_type": "code",
   "execution_count": 31,
   "id": "e3fea497",
   "metadata": {
    "execution": {
     "iopub.execute_input": "2025-04-11T17:02:44.513083Z",
     "iopub.status.busy": "2025-04-11T17:02:44.512815Z",
     "iopub.status.idle": "2025-04-11T17:02:44.787058Z",
     "shell.execute_reply": "2025-04-11T17:02:44.786143Z"
    },
    "papermill": {
     "duration": 0.30084,
     "end_time": "2025-04-11T17:02:44.788691",
     "exception": false,
     "start_time": "2025-04-11T17:02:44.487851",
     "status": "completed"
    },
    "tags": []
   },
   "outputs": [
    {
     "data": {
      "image/png": "[encoded data removed]",
      "text/plain": [
       "<Figure size 640x480 with 1 Axes>"
      ]
     },
     "metadata": {},
     "output_type": "display_data"
    }
   ],
   "source": [
    "fig\n",
    "sns.boxplot(x= drug_df[\"Drug\"],y=drug_df[\"Age\"])\n",
    "plt.title(\"Drug and Age\")\n",
    "sh"
   ]
  },
  {
   "cell_type": "markdown",
   "id": "515467af",
   "metadata": {
    "papermill": {
     "duration": 0.024703,
     "end_time": "2025-04-11T17:02:44.843124",
     "exception": false,
     "start_time": "2025-04-11T17:02:44.818421",
     "status": "completed"
    },
    "tags": []
   },
   "source": [
    "### Yes, DrugB is primarily prescribed to older individuals above 60, while DrugA is more common among younger patients. The remaining drugs show similar patterns and are prescribed across a broader and overlapping age range\n",
    "<hr>"
   ]
  },
  {
   "cell_type": "code",
   "execution_count": null,
   "id": "77518dfc",
   "metadata": {
    "papermill": {
     "duration": 0.024831,
     "end_time": "2025-04-11T17:02:44.892960",
     "exception": false,
     "start_time": "2025-04-11T17:02:44.868129",
     "status": "completed"
    },
    "tags": []
   },
   "outputs": [],
   "source": []
  },
  {
   "cell_type": "markdown",
   "id": "7ad37924",
   "metadata": {
    "papermill": {
     "duration": 0.025363,
     "end_time": "2025-04-11T17:02:44.943133",
     "exception": false,
     "start_time": "2025-04-11T17:02:44.917770",
     "status": "completed"
    },
    "tags": []
   },
   "source": [
    "# is Cholesterol level effect on the drug type that should be taken ?"
   ]
  },
  {
   "cell_type": "code",
   "execution_count": 32,
   "id": "c95c0326",
   "metadata": {
    "execution": {
     "iopub.execute_input": "2025-04-11T17:02:44.997498Z",
     "iopub.status.busy": "2025-04-11T17:02:44.997153Z",
     "iopub.status.idle": "2025-04-11T17:02:45.127566Z",
     "shell.execute_reply": "2025-04-11T17:02:45.126728Z"
    },
    "papermill": {
     "duration": 0.159188,
     "end_time": "2025-04-11T17:02:45.129088",
     "exception": false,
     "start_time": "2025-04-11T17:02:44.969900",
     "status": "completed"
    },
    "tags": []
   },
   "outputs": [
    {
     "data": {
      "text/html": [
       "<div>\n",
       "<style scoped>\n",
       "    .dataframe tbody tr th:only-of-type {\n",
       "        vertical-align: middle;\n",
       "    }\n",
       "\n",
       "    .dataframe tbody tr th {\n",
       "        vertical-align: top;\n",
       "    }\n",
       "\n",
       "    .dataframe thead th {\n",
       "        text-align: right;\n",
       "    }\n",
       "</style>\n",
       "<table border=\"1\" class=\"dataframe\">\n",
       "  <thead>\n",
       "    <tr style=\"text-align: right;\">\n",
       "      <th>Cholesterol</th>\n",
       "      <th>HIGH</th>\n",
       "      <th>NORMAL</th>\n",
       "    </tr>\n",
       "    <tr>\n",
       "      <th>Drug</th>\n",
       "      <th></th>\n",
       "      <th></th>\n",
       "    </tr>\n",
       "  </thead>\n",
       "  <tbody>\n",
       "    <tr>\n",
       "      <th>DrugY</th>\n",
       "      <td>47</td>\n",
       "      <td>44</td>\n",
       "    </tr>\n",
       "    <tr>\n",
       "      <th>drugA</th>\n",
       "      <td>12</td>\n",
       "      <td>11</td>\n",
       "    </tr>\n",
       "    <tr>\n",
       "      <th>drugB</th>\n",
       "      <td>8</td>\n",
       "      <td>8</td>\n",
       "    </tr>\n",
       "    <tr>\n",
       "      <th>drugC</th>\n",
       "      <td>16</td>\n",
       "      <td>0</td>\n",
       "    </tr>\n",
       "    <tr>\n",
       "      <th>drugX</th>\n",
       "      <td>20</td>\n",
       "      <td>34</td>\n",
       "    </tr>\n",
       "  </tbody>\n",
       "</table>\n",
       "</div>"
      ],
      "text/plain": [
       "Cholesterol  HIGH  NORMAL\n",
       "Drug                     \n",
       "DrugY          47      44\n",
       "drugA          12      11\n",
       "drugB           8       8\n",
       "drugC          16       0\n",
       "drugX          20      34"
      ]
     },
     "execution_count": 32,
     "metadata": {},
     "output_type": "execute_result"
    }
   ],
   "source": [
    "chol_drug = pd.crosstab(drug_df[\"Drug\"],drug_df[\"Cholesterol\"])\n",
    "chol_drug"
   ]
  },
  {
   "cell_type": "code",
   "execution_count": 33,
   "id": "0db3fa30",
   "metadata": {
    "execution": {
     "iopub.execute_input": "2025-04-11T17:02:45.183671Z",
     "iopub.status.busy": "2025-04-11T17:02:45.183401Z",
     "iopub.status.idle": "2025-04-11T17:02:45.429147Z",
     "shell.execute_reply": "2025-04-11T17:02:45.428305Z"
    },
    "papermill": {
     "duration": 0.274076,
     "end_time": "2025-04-11T17:02:45.430693",
     "exception": false,
     "start_time": "2025-04-11T17:02:45.156617",
     "status": "completed"
    },
    "tags": []
   },
   "outputs": [
    {
     "data": {
      "image/png": "[encoded data removed]",
      "text/plain": [
       "<Figure size 640x480 with 1 Axes>"
      ]
     },
     "metadata": {},
     "output_type": "display_data"
    }
   ],
   "source": [
    "fig\n",
    "chol_drug.plot(kind=\"bar\",)\n",
    "plt.title(\"raltion between drug & Cholesterol\")\n",
    "sh"
   ]
  },
  {
   "cell_type": "markdown",
   "id": "0a85c8bf",
   "metadata": {
    "papermill": {
     "duration": 0.025281,
     "end_time": "2025-04-11T17:02:45.484407",
     "exception": false,
     "start_time": "2025-04-11T17:02:45.459126",
     "status": "completed"
    },
    "tags": []
   },
   "source": [
    "### Most drugs are prescribed for both high and normal cholesterol levels fairly equally, except DrugC, which appears to be prescribed exclusively for patients with high cholesterol.\n",
    "\n",
    "<hr>"
   ]
  },
  {
   "cell_type": "code",
   "execution_count": null,
   "id": "05638396",
   "metadata": {
    "papermill": {
     "duration": 0.025288,
     "end_time": "2025-04-11T17:02:45.534698",
     "exception": false,
     "start_time": "2025-04-11T17:02:45.509410",
     "status": "completed"
    },
    "tags": []
   },
   "outputs": [],
   "source": []
  },
  {
   "cell_type": "markdown",
   "id": "6faecf8f",
   "metadata": {
    "papermill": {
     "duration": 0.025428,
     "end_time": "2025-04-11T17:02:45.585379",
     "exception": false,
     "start_time": "2025-04-11T17:02:45.559951",
     "status": "completed"
    },
    "tags": []
   },
   "source": [
    "# is BP level effect on the drug type that should be taken ?"
   ]
  },
  {
   "cell_type": "code",
   "execution_count": 34,
   "id": "f662c235",
   "metadata": {
    "execution": {
     "iopub.execute_input": "2025-04-11T17:02:45.639466Z",
     "iopub.status.busy": "2025-04-11T17:02:45.639149Z",
     "iopub.status.idle": "2025-04-11T17:02:45.652780Z",
     "shell.execute_reply": "2025-04-11T17:02:45.651966Z"
    },
    "papermill": {
     "duration": 0.041253,
     "end_time": "2025-04-11T17:02:45.654083",
     "exception": false,
     "start_time": "2025-04-11T17:02:45.612830",
     "status": "completed"
    },
    "tags": []
   },
   "outputs": [
    {
     "data": {
      "text/html": [
       "<div>\n",
       "<style scoped>\n",
       "    .dataframe tbody tr th:only-of-type {\n",
       "        vertical-align: middle;\n",
       "    }\n",
       "\n",
       "    .dataframe tbody tr th {\n",
       "        vertical-align: top;\n",
       "    }\n",
       "\n",
       "    .dataframe thead th {\n",
       "        text-align: right;\n",
       "    }\n",
       "</style>\n",
       "<table border=\"1\" class=\"dataframe\">\n",
       "  <thead>\n",
       "    <tr style=\"text-align: right;\">\n",
       "      <th>BP</th>\n",
       "      <th>HIGH</th>\n",
       "      <th>LOW</th>\n",
       "      <th>NORMAL</th>\n",
       "    </tr>\n",
       "    <tr>\n",
       "      <th>Drug</th>\n",
       "      <th></th>\n",
       "      <th></th>\n",
       "      <th></th>\n",
       "    </tr>\n",
       "  </thead>\n",
       "  <tbody>\n",
       "    <tr>\n",
       "      <th>DrugY</th>\n",
       "      <td>38</td>\n",
       "      <td>30</td>\n",
       "      <td>23</td>\n",
       "    </tr>\n",
       "    <tr>\n",
       "      <th>drugA</th>\n",
       "      <td>23</td>\n",
       "      <td>0</td>\n",
       "      <td>0</td>\n",
       "    </tr>\n",
       "    <tr>\n",
       "      <th>drugB</th>\n",
       "      <td>16</td>\n",
       "      <td>0</td>\n",
       "      <td>0</td>\n",
       "    </tr>\n",
       "    <tr>\n",
       "      <th>drugC</th>\n",
       "      <td>0</td>\n",
       "      <td>16</td>\n",
       "      <td>0</td>\n",
       "    </tr>\n",
       "    <tr>\n",
       "      <th>drugX</th>\n",
       "      <td>0</td>\n",
       "      <td>18</td>\n",
       "      <td>36</td>\n",
       "    </tr>\n",
       "  </tbody>\n",
       "</table>\n",
       "</div>"
      ],
      "text/plain": [
       "BP     HIGH  LOW  NORMAL\n",
       "Drug                    \n",
       "DrugY    38   30      23\n",
       "drugA    23    0       0\n",
       "drugB    16    0       0\n",
       "drugC     0   16       0\n",
       "drugX     0   18      36"
      ]
     },
     "execution_count": 34,
     "metadata": {},
     "output_type": "execute_result"
    }
   ],
   "source": [
    "Bp_drug = pd.crosstab(drug_df[\"Drug\"],drug_df[\"BP\"])\n",
    "Bp_drug"
   ]
  },
  {
   "cell_type": "code",
   "execution_count": 35,
   "id": "db916441",
   "metadata": {
    "execution": {
     "iopub.execute_input": "2025-04-11T17:02:45.708283Z",
     "iopub.status.busy": "2025-04-11T17:02:45.708013Z",
     "iopub.status.idle": "2025-04-11T17:02:45.997128Z",
     "shell.execute_reply": "2025-04-11T17:02:45.996306Z"
    },
    "papermill": {
     "duration": 0.318423,
     "end_time": "2025-04-11T17:02:45.998704",
     "exception": false,
     "start_time": "2025-04-11T17:02:45.680281",
     "status": "completed"
    },
    "tags": []
   },
   "outputs": [
    {
     "data": {
      "image/png": "[encoded data removed]",
      "text/plain": [
       "<Figure size 640x480 with 1 Axes>"
      ]
     },
     "metadata": {},
     "output_type": "display_data"
    }
   ],
   "source": [
    "fig\n",
    "Bp_drug.plot(kind=\"bar\",)\n",
    "plt.title(\"raltion between drug & BP\")\n",
    "sh"
   ]
  },
  {
   "cell_type": "markdown",
   "id": "b84d1293",
   "metadata": {
    "papermill": {
     "duration": 0.026195,
     "end_time": "2025-04-11T17:02:46.053719",
     "exception": false,
     "start_time": "2025-04-11T17:02:46.027524",
     "status": "completed"
    },
    "tags": []
   },
   "source": [
    "### Here we Found that Drug Y deals with all BP levels, Drug A & B deal only with High levels, Drug C only deals with low levels, Drug X deals with Low and normal levels, but is more common with normal levels.\n",
    "<hr>\n",
    "<br><br>"
   ]
  },
  {
   "cell_type": "markdown",
   "id": "5c34931e",
   "metadata": {
    "papermill": {
     "duration": 0.026626,
     "end_time": "2025-04-11T17:02:46.106440",
     "exception": false,
     "start_time": "2025-04-11T17:02:46.079814",
     "status": "completed"
    },
    "tags": []
   },
   "source": [
    "# Does any drug target only one sex (male/female)?"
   ]
  },
  {
   "cell_type": "code",
   "execution_count": 36,
   "id": "08978134",
   "metadata": {
    "execution": {
     "iopub.execute_input": "2025-04-11T17:02:46.163863Z",
     "iopub.status.busy": "2025-04-11T17:02:46.163529Z",
     "iopub.status.idle": "2025-04-11T17:02:46.178678Z",
     "shell.execute_reply": "2025-04-11T17:02:46.177951Z"
    },
    "papermill": {
     "duration": 0.044943,
     "end_time": "2025-04-11T17:02:46.180023",
     "exception": false,
     "start_time": "2025-04-11T17:02:46.135080",
     "status": "completed"
    },
    "tags": []
   },
   "outputs": [
    {
     "data": {
      "text/html": [
       "<div>\n",
       "<style scoped>\n",
       "    .dataframe tbody tr th:only-of-type {\n",
       "        vertical-align: middle;\n",
       "    }\n",
       "\n",
       "    .dataframe tbody tr th {\n",
       "        vertical-align: top;\n",
       "    }\n",
       "\n",
       "    .dataframe thead th {\n",
       "        text-align: right;\n",
       "    }\n",
       "</style>\n",
       "<table border=\"1\" class=\"dataframe\">\n",
       "  <thead>\n",
       "    <tr style=\"text-align: right;\">\n",
       "      <th>Sex</th>\n",
       "      <th>F</th>\n",
       "      <th>M</th>\n",
       "    </tr>\n",
       "    <tr>\n",
       "      <th>Drug</th>\n",
       "      <th></th>\n",
       "      <th></th>\n",
       "    </tr>\n",
       "  </thead>\n",
       "  <tbody>\n",
       "    <tr>\n",
       "      <th>DrugY</th>\n",
       "      <td>47</td>\n",
       "      <td>44</td>\n",
       "    </tr>\n",
       "    <tr>\n",
       "      <th>drugA</th>\n",
       "      <td>9</td>\n",
       "      <td>14</td>\n",
       "    </tr>\n",
       "    <tr>\n",
       "      <th>drugB</th>\n",
       "      <td>6</td>\n",
       "      <td>10</td>\n",
       "    </tr>\n",
       "    <tr>\n",
       "      <th>drugC</th>\n",
       "      <td>7</td>\n",
       "      <td>9</td>\n",
       "    </tr>\n",
       "    <tr>\n",
       "      <th>drugX</th>\n",
       "      <td>27</td>\n",
       "      <td>27</td>\n",
       "    </tr>\n",
       "  </tbody>\n",
       "</table>\n",
       "</div>"
      ],
      "text/plain": [
       "Sex     F   M\n",
       "Drug         \n",
       "DrugY  47  44\n",
       "drugA   9  14\n",
       "drugB   6  10\n",
       "drugC   7   9\n",
       "drugX  27  27"
      ]
     },
     "execution_count": 36,
     "metadata": {},
     "output_type": "execute_result"
    }
   ],
   "source": [
    "sex_drug = pd.crosstab(drug_df[\"Drug\"],drug_df[\"Sex\"])\n",
    "sex_drug"
   ]
  },
  {
   "cell_type": "code",
   "execution_count": 37,
   "id": "84be60c8",
   "metadata": {
    "execution": {
     "iopub.execute_input": "2025-04-11T17:02:46.237460Z",
     "iopub.status.busy": "2025-04-11T17:02:46.237150Z",
     "iopub.status.idle": "2025-04-11T17:02:46.490580Z",
     "shell.execute_reply": "2025-04-11T17:02:46.489706Z"
    },
    "papermill": {
     "duration": 0.284236,
     "end_time": "2025-04-11T17:02:46.492326",
     "exception": false,
     "start_time": "2025-04-11T17:02:46.208090",
     "status": "completed"
    },
    "tags": []
   },
   "outputs": [
    {
     "data": {
      "image/png": "[encoded data removed]",
      "text/plain": [
       "<Figure size 640x480 with 1 Axes>"
      ]
     },
     "metadata": {},
     "output_type": "display_data"
    }
   ],
   "source": [
    "fig\n",
    "sex_drug.plot(kind=\"bar\",)\n",
    "plt.title(\"raltion between drug & Sex\")\n",
    "sh"
   ]
  },
  {
   "cell_type": "markdown",
   "id": "fd102692",
   "metadata": {
    "papermill": {
     "duration": 0.027829,
     "end_time": "2025-04-11T17:02:46.550570",
     "exception": false,
     "start_time": "2025-04-11T17:02:46.522741",
     "status": "completed"
    },
    "tags": []
   },
   "source": [
    "#  Here, We found that all the drugs are effective for both genders.\n",
    "<hr>\n",
    "<br><br>"
   ]
  },
  {
   "cell_type": "markdown",
   "id": "4e58f501",
   "metadata": {
    "papermill": {
     "duration": 0.029278,
     "end_time": "2025-04-11T17:02:46.608083",
     "exception": false,
     "start_time": "2025-04-11T17:02:46.578805",
     "status": "completed"
    },
    "tags": []
   },
   "source": [
    "# **Drug Prescription Analysis Insights**\n",
    "\n",
    "### **1. Demographic & Biological Factors**\n",
    "#### **Age & Drug Prescription**\n",
    "* **DrugB** is mainly prescribed to patients **above 60 years**\n",
    "* **DrugA** is more common among **younger patients**\n",
    "* Other drugs (**C, X, Y**) show overlapping age distributions\n",
    "\n",
    "#### **Gender & Effectiveness**\n",
    "* All drugs work equally well for **both genders**\n",
    "\n",
    "#### **Blood Pressure (BP) Patterns**\n",
    "* **DrugA & DrugB**: Only for **high BP**\n",
    "* **DrugC**: Only for **low BP**  \n",
    "* **DrugX**: For **low/normal BP** (more common with normal)\n",
    "* **DrugY**: Covers **all BP levels**\n",
    "\n",
    "#### **Cholesterol Levels**\n",
    "* Most drugs (**A, B, X, Y**) are prescribed for both **high/normal cholesterol**\n",
    "* **DrugC**: Only for **high cholesterol**\n",
    "\n",
    "---\n",
    "\n",
    "### **2. Sodium-Potassium (Na_to_K) Ratio Rules**\n",
    "* **General Rule**:\n",
    "  - Na_to_K **5-15** → May get **Drug A/B/C/X**\n",
    "  - Na_to_K **>15** → Almost always **Drug Y**\n",
    "* **Gender Difference**:\n",
    "  - Females with **high BP** have higher average Na_to_K than males\n",
    "  - Other BP categories show minimal gender differences\n",
    "\n",
    "---\n",
    "\n",
    "### **3. Non-Correlations**\n",
    "* No relationship between:\n",
    "  - Age ↔ Na_to_K ratio\n",
    "  - Age ↔ Blood Pressure\n",
    "\n",
    "---\n",
    "\n",
    "### **Prescription Summary Table**\n",
    "| Drug | Age Target      | BP Levels       | Cholesterol   | Na_to_K Threshold |\n",
    "|------|----------------|----------------|--------------|-------------------|\n",
    "| **A**| Younger        | High only       | High/Normal  | 5-15              |\n",
    "| **B**| **60+ yrs**    | High only       | High/Normal  | 5-15              |\n",
    "| **C**| All ages       | **Low only**    | **High only**| 5-15              |\n",
    "| **X**| All ages       | Low/Normal      | High/Normal  | 5-15              |\n",
    "| **Y**| All ages       | **All levels**  | High/Normal  | **>15**           |\n",
    "\n",
    "---\n",
    "<br><br><br>"
   ]
  },
  {
   "cell_type": "markdown",
   "id": "358c8da9",
   "metadata": {
    "execution": {
     "iopub.execute_input": "2025-04-11T02:34:41.293240Z",
     "iopub.status.busy": "2025-04-11T02:34:41.292925Z",
     "iopub.status.idle": "2025-04-11T02:34:41.297917Z",
     "shell.execute_reply": "2025-04-11T02:34:41.296693Z",
     "shell.execute_reply.started": "2025-04-11T02:34:41.293217Z"
    },
    "papermill": {
     "duration": 0.02809,
     "end_time": "2025-04-11T17:02:46.665013",
     "exception": false,
     "start_time": "2025-04-11T17:02:46.636923",
     "status": "completed"
    },
    "tags": []
   },
   "source": [
    "# Machine Learning phase"
   ]
  },
  {
   "cell_type": "code",
   "execution_count": 38,
   "id": "77aac724",
   "metadata": {
    "execution": {
     "iopub.execute_input": "2025-04-11T17:02:46.720846Z",
     "iopub.status.busy": "2025-04-11T17:02:46.720561Z",
     "iopub.status.idle": "2025-04-11T17:02:47.346249Z",
     "shell.execute_reply": "2025-04-11T17:02:47.345523Z"
    },
    "papermill": {
     "duration": 0.654723,
     "end_time": "2025-04-11T17:02:47.347821",
     "exception": false,
     "start_time": "2025-04-11T17:02:46.693098",
     "status": "completed"
    },
    "tags": []
   },
   "outputs": [],
   "source": [
    "from sklearn.preprocessing import LabelEncoder ,OneHotEncoder\n",
    "from sklearn.model_selection import GridSearchCV , KFold, train_test_split\n",
    "from sklearn.pipeline import Pipeline\n",
    "from sklearn.metrics import accuracy_score, classification_report ,confusion_matrix\n",
    "from sklearn.neighbors import KNeighborsClassifier\n",
    "from sklearn.linear_model import LogisticRegression\n",
    "from sklearn.svm import SVC\n",
    "from sklearn.tree import DecisionTreeClassifier\n",
    "from sklearn.ensemble import RandomForestClassifier\n"
   ]
  },
  {
   "cell_type": "markdown",
   "id": "282bf0ce",
   "metadata": {
    "papermill": {
     "duration": 0.029896,
     "end_time": "2025-04-11T17:02:47.408036",
     "exception": false,
     "start_time": "2025-04-11T17:02:47.378140",
     "status": "completed"
    },
    "tags": []
   },
   "source": [
    "steps \n",
    "* encoding\n",
    "* write the pipeline in it ( model , paramter )\n",
    "* make loop run on the steps by grid search\n",
    "* every model make train inside the loop "
   ]
  },
  {
   "cell_type": "code",
   "execution_count": 39,
   "id": "8d109917",
   "metadata": {
    "execution": {
     "iopub.execute_input": "2025-04-11T17:02:47.468709Z",
     "iopub.status.busy": "2025-04-11T17:02:47.468403Z",
     "iopub.status.idle": "2025-04-11T17:02:47.472571Z",
     "shell.execute_reply": "2025-04-11T17:02:47.471610Z"
    },
    "papermill": {
     "duration": 0.035707,
     "end_time": "2025-04-11T17:02:47.473908",
     "exception": false,
     "start_time": "2025-04-11T17:02:47.438201",
     "status": "completed"
    },
    "tags": []
   },
   "outputs": [],
   "source": [
    "ml_df=drug_df.copy()"
   ]
  },
  {
   "cell_type": "code",
   "execution_count": 40,
   "id": "889f5ac7",
   "metadata": {
    "execution": {
     "iopub.execute_input": "2025-04-11T17:02:47.538901Z",
     "iopub.status.busy": "2025-04-11T17:02:47.538598Z",
     "iopub.status.idle": "2025-04-11T17:02:47.543656Z",
     "shell.execute_reply": "2025-04-11T17:02:47.543000Z"
    },
    "papermill": {
     "duration": 0.036972,
     "end_time": "2025-04-11T17:02:47.544872",
     "exception": false,
     "start_time": "2025-04-11T17:02:47.507900",
     "status": "completed"
    },
    "tags": []
   },
   "outputs": [
    {
     "data": {
      "text/plain": [
       "array(['DrugY', 'drugC', 'drugX', 'drugA', 'drugB'], dtype=object)"
      ]
     },
     "execution_count": 40,
     "metadata": {},
     "output_type": "execute_result"
    }
   ],
   "source": [
    "ml_df[\"Drug\"].unique()"
   ]
  },
  {
   "cell_type": "code",
   "execution_count": 41,
   "id": "c38dc4e2",
   "metadata": {
    "execution": {
     "iopub.execute_input": "2025-04-11T17:02:47.600712Z",
     "iopub.status.busy": "2025-04-11T17:02:47.600455Z",
     "iopub.status.idle": "2025-04-11T17:02:47.604395Z",
     "shell.execute_reply": "2025-04-11T17:02:47.603725Z"
    },
    "papermill": {
     "duration": 0.033568,
     "end_time": "2025-04-11T17:02:47.605643",
     "exception": false,
     "start_time": "2025-04-11T17:02:47.572075",
     "status": "completed"
    },
    "tags": []
   },
   "outputs": [],
   "source": [
    "lab_encod= LabelEncoder()\n",
    "ml_df[\"Drug\"]= lab_encod.fit_transform(ml_df[\"Drug\"])"
   ]
  },
  {
   "cell_type": "code",
   "execution_count": 42,
   "id": "42290a3b",
   "metadata": {
    "execution": {
     "iopub.execute_input": "2025-04-11T17:02:47.663323Z",
     "iopub.status.busy": "2025-04-11T17:02:47.663030Z",
     "iopub.status.idle": "2025-04-11T17:02:47.668372Z",
     "shell.execute_reply": "2025-04-11T17:02:47.667693Z"
    },
    "papermill": {
     "duration": 0.03545,
     "end_time": "2025-04-11T17:02:47.669571",
     "exception": false,
     "start_time": "2025-04-11T17:02:47.634121",
     "status": "completed"
    },
    "tags": []
   },
   "outputs": [
    {
     "data": {
      "text/plain": [
       "array([0, 3, 4, 1, 2])"
      ]
     },
     "execution_count": 42,
     "metadata": {},
     "output_type": "execute_result"
    }
   ],
   "source": [
    "ml_df[\"Drug\"].unique()"
   ]
  },
  {
   "cell_type": "code",
   "execution_count": 43,
   "id": "1c9b62d3",
   "metadata": {
    "execution": {
     "iopub.execute_input": "2025-04-11T17:02:47.728025Z",
     "iopub.status.busy": "2025-04-11T17:02:47.727783Z",
     "iopub.status.idle": "2025-04-11T17:02:47.739293Z",
     "shell.execute_reply": "2025-04-11T17:02:47.738471Z"
    },
    "papermill": {
     "duration": 0.040895,
     "end_time": "2025-04-11T17:02:47.740587",
     "exception": false,
     "start_time": "2025-04-11T17:02:47.699692",
     "status": "completed"
    },
    "tags": []
   },
   "outputs": [],
   "source": [
    "encoder = OneHotEncoder( sparse_output=False,drop='first')\n",
    "cat_col= list(ml_df.select_dtypes(include=['object']).columns)\n",
    "one_hot_encoded = encoder.fit_transform(ml_df[cat_col])\n",
    "\n",
    "one_hot_df = pd.DataFrame(one_hot_encoded, columns=encoder.get_feature_names_out(cat_col))\n",
    "\n",
    "df_encoded = pd.concat([ml_df, one_hot_df], axis=1)\n"
   ]
  },
  {
   "cell_type": "code",
   "execution_count": 44,
   "id": "0d0abe70",
   "metadata": {
    "execution": {
     "iopub.execute_input": "2025-04-11T17:02:47.798156Z",
     "iopub.status.busy": "2025-04-11T17:02:47.797895Z",
     "iopub.status.idle": "2025-04-11T17:02:47.812892Z",
     "shell.execute_reply": "2025-04-11T17:02:47.811989Z"
    },
    "papermill": {
     "duration": 0.044606,
     "end_time": "2025-04-11T17:02:47.814184",
     "exception": false,
     "start_time": "2025-04-11T17:02:47.769578",
     "status": "completed"
    },
    "tags": []
   },
   "outputs": [
    {
     "data": {
      "text/html": [
       "<div>\n",
       "<style scoped>\n",
       "    .dataframe tbody tr th:only-of-type {\n",
       "        vertical-align: middle;\n",
       "    }\n",
       "\n",
       "    .dataframe tbody tr th {\n",
       "        vertical-align: top;\n",
       "    }\n",
       "\n",
       "    .dataframe thead th {\n",
       "        text-align: right;\n",
       "    }\n",
       "</style>\n",
       "<table border=\"1\" class=\"dataframe\">\n",
       "  <thead>\n",
       "    <tr style=\"text-align: right;\">\n",
       "      <th></th>\n",
       "      <th>index</th>\n",
       "      <th>Age</th>\n",
       "      <th>Sex</th>\n",
       "      <th>BP</th>\n",
       "      <th>Cholesterol</th>\n",
       "      <th>Na_to_K</th>\n",
       "      <th>Drug</th>\n",
       "      <th>Sex_M</th>\n",
       "      <th>BP_LOW</th>\n",
       "      <th>BP_NORMAL</th>\n",
       "      <th>Cholesterol_NORMAL</th>\n",
       "    </tr>\n",
       "  </thead>\n",
       "  <tbody>\n",
       "    <tr>\n",
       "      <th>30</th>\n",
       "      <td>30</td>\n",
       "      <td>18</td>\n",
       "      <td>F</td>\n",
       "      <td>NORMAL</td>\n",
       "      <td>NORMAL</td>\n",
       "      <td>8.750</td>\n",
       "      <td>4</td>\n",
       "      <td>0.0</td>\n",
       "      <td>0.0</td>\n",
       "      <td>1.0</td>\n",
       "      <td>1.0</td>\n",
       "    </tr>\n",
       "    <tr>\n",
       "      <th>62</th>\n",
       "      <td>62</td>\n",
       "      <td>67</td>\n",
       "      <td>M</td>\n",
       "      <td>LOW</td>\n",
       "      <td>NORMAL</td>\n",
       "      <td>20.693</td>\n",
       "      <td>0</td>\n",
       "      <td>1.0</td>\n",
       "      <td>1.0</td>\n",
       "      <td>0.0</td>\n",
       "      <td>1.0</td>\n",
       "    </tr>\n",
       "    <tr>\n",
       "      <th>109</th>\n",
       "      <td>109</td>\n",
       "      <td>23</td>\n",
       "      <td>M</td>\n",
       "      <td>NORMAL</td>\n",
       "      <td>HIGH</td>\n",
       "      <td>16.850</td>\n",
       "      <td>0</td>\n",
       "      <td>1.0</td>\n",
       "      <td>0.0</td>\n",
       "      <td>1.0</td>\n",
       "      <td>0.0</td>\n",
       "    </tr>\n",
       "    <tr>\n",
       "      <th>99</th>\n",
       "      <td>99</td>\n",
       "      <td>15</td>\n",
       "      <td>F</td>\n",
       "      <td>HIGH</td>\n",
       "      <td>NORMAL</td>\n",
       "      <td>16.725</td>\n",
       "      <td>0</td>\n",
       "      <td>0.0</td>\n",
       "      <td>0.0</td>\n",
       "      <td>0.0</td>\n",
       "      <td>1.0</td>\n",
       "    </tr>\n",
       "    <tr>\n",
       "      <th>36</th>\n",
       "      <td>36</td>\n",
       "      <td>32</td>\n",
       "      <td>M</td>\n",
       "      <td>HIGH</td>\n",
       "      <td>NORMAL</td>\n",
       "      <td>9.445</td>\n",
       "      <td>1</td>\n",
       "      <td>1.0</td>\n",
       "      <td>0.0</td>\n",
       "      <td>0.0</td>\n",
       "      <td>1.0</td>\n",
       "    </tr>\n",
       "    <tr>\n",
       "      <th>13</th>\n",
       "      <td>13</td>\n",
       "      <td>74</td>\n",
       "      <td>F</td>\n",
       "      <td>LOW</td>\n",
       "      <td>HIGH</td>\n",
       "      <td>20.942</td>\n",
       "      <td>0</td>\n",
       "      <td>0.0</td>\n",
       "      <td>1.0</td>\n",
       "      <td>0.0</td>\n",
       "      <td>0.0</td>\n",
       "    </tr>\n",
       "    <tr>\n",
       "      <th>45</th>\n",
       "      <td>45</td>\n",
       "      <td>66</td>\n",
       "      <td>F</td>\n",
       "      <td>NORMAL</td>\n",
       "      <td>NORMAL</td>\n",
       "      <td>8.107</td>\n",
       "      <td>4</td>\n",
       "      <td>0.0</td>\n",
       "      <td>0.0</td>\n",
       "      <td>1.0</td>\n",
       "      <td>1.0</td>\n",
       "    </tr>\n",
       "    <tr>\n",
       "      <th>37</th>\n",
       "      <td>37</td>\n",
       "      <td>39</td>\n",
       "      <td>M</td>\n",
       "      <td>LOW</td>\n",
       "      <td>NORMAL</td>\n",
       "      <td>13.938</td>\n",
       "      <td>4</td>\n",
       "      <td>1.0</td>\n",
       "      <td>1.0</td>\n",
       "      <td>0.0</td>\n",
       "      <td>1.0</td>\n",
       "    </tr>\n",
       "    <tr>\n",
       "      <th>47</th>\n",
       "      <td>47</td>\n",
       "      <td>68</td>\n",
       "      <td>M</td>\n",
       "      <td>LOW</td>\n",
       "      <td>HIGH</td>\n",
       "      <td>10.291</td>\n",
       "      <td>3</td>\n",
       "      <td>1.0</td>\n",
       "      <td>1.0</td>\n",
       "      <td>0.0</td>\n",
       "      <td>0.0</td>\n",
       "    </tr>\n",
       "    <tr>\n",
       "      <th>156</th>\n",
       "      <td>156</td>\n",
       "      <td>31</td>\n",
       "      <td>M</td>\n",
       "      <td>HIGH</td>\n",
       "      <td>NORMAL</td>\n",
       "      <td>11.227</td>\n",
       "      <td>1</td>\n",
       "      <td>1.0</td>\n",
       "      <td>0.0</td>\n",
       "      <td>0.0</td>\n",
       "      <td>1.0</td>\n",
       "    </tr>\n",
       "  </tbody>\n",
       "</table>\n",
       "</div>"
      ],
      "text/plain": [
       "     index  Age Sex      BP Cholesterol  Na_to_K  Drug  Sex_M  BP_LOW  \\\n",
       "30      30   18   F  NORMAL      NORMAL    8.750     4    0.0     0.0   \n",
       "62      62   67   M     LOW      NORMAL   20.693     0    1.0     1.0   \n",
       "109    109   23   M  NORMAL        HIGH   16.850     0    1.0     0.0   \n",
       "99      99   15   F    HIGH      NORMAL   16.725     0    0.0     0.0   \n",
       "36      36   32   M    HIGH      NORMAL    9.445     1    1.0     0.0   \n",
       "13      13   74   F     LOW        HIGH   20.942     0    0.0     1.0   \n",
       "45      45   66   F  NORMAL      NORMAL    8.107     4    0.0     0.0   \n",
       "37      37   39   M     LOW      NORMAL   13.938     4    1.0     1.0   \n",
       "47      47   68   M     LOW        HIGH   10.291     3    1.0     1.0   \n",
       "156    156   31   M    HIGH      NORMAL   11.227     1    1.0     0.0   \n",
       "\n",
       "     BP_NORMAL  Cholesterol_NORMAL  \n",
       "30         1.0                 1.0  \n",
       "62         0.0                 1.0  \n",
       "109        1.0                 0.0  \n",
       "99         0.0                 1.0  \n",
       "36         0.0                 1.0  \n",
       "13         0.0                 0.0  \n",
       "45         1.0                 1.0  \n",
       "37         0.0                 1.0  \n",
       "47         0.0                 0.0  \n",
       "156        0.0                 1.0  "
      ]
     },
     "execution_count": 44,
     "metadata": {},
     "output_type": "execute_result"
    }
   ],
   "source": [
    "df_encoded.sample(10)"
   ]
  },
  {
   "cell_type": "code",
   "execution_count": 45,
   "id": "376cbcdd",
   "metadata": {
    "execution": {
     "iopub.execute_input": "2025-04-11T17:02:47.869571Z",
     "iopub.status.busy": "2025-04-11T17:02:47.869323Z",
     "iopub.status.idle": "2025-04-11T17:02:47.883176Z",
     "shell.execute_reply": "2025-04-11T17:02:47.882476Z"
    },
    "papermill": {
     "duration": 0.042956,
     "end_time": "2025-04-11T17:02:47.884555",
     "exception": false,
     "start_time": "2025-04-11T17:02:47.841599",
     "status": "completed"
    },
    "tags": []
   },
   "outputs": [
    {
     "data": {
      "text/html": [
       "<div>\n",
       "<style scoped>\n",
       "    .dataframe tbody tr th:only-of-type {\n",
       "        vertical-align: middle;\n",
       "    }\n",
       "\n",
       "    .dataframe tbody tr th {\n",
       "        vertical-align: top;\n",
       "    }\n",
       "\n",
       "    .dataframe thead th {\n",
       "        text-align: right;\n",
       "    }\n",
       "</style>\n",
       "<table border=\"1\" class=\"dataframe\">\n",
       "  <thead>\n",
       "    <tr style=\"text-align: right;\">\n",
       "      <th></th>\n",
       "      <th>index</th>\n",
       "      <th>Age</th>\n",
       "      <th>Na_to_K</th>\n",
       "      <th>Drug</th>\n",
       "      <th>Sex_M</th>\n",
       "      <th>BP_LOW</th>\n",
       "      <th>BP_NORMAL</th>\n",
       "      <th>Cholesterol_NORMAL</th>\n",
       "    </tr>\n",
       "  </thead>\n",
       "  <tbody>\n",
       "    <tr>\n",
       "      <th>0</th>\n",
       "      <td>0</td>\n",
       "      <td>23</td>\n",
       "      <td>25.355</td>\n",
       "      <td>0</td>\n",
       "      <td>0.0</td>\n",
       "      <td>0.0</td>\n",
       "      <td>0.0</td>\n",
       "      <td>0.0</td>\n",
       "    </tr>\n",
       "    <tr>\n",
       "      <th>1</th>\n",
       "      <td>1</td>\n",
       "      <td>47</td>\n",
       "      <td>13.093</td>\n",
       "      <td>3</td>\n",
       "      <td>1.0</td>\n",
       "      <td>1.0</td>\n",
       "      <td>0.0</td>\n",
       "      <td>0.0</td>\n",
       "    </tr>\n",
       "    <tr>\n",
       "      <th>2</th>\n",
       "      <td>2</td>\n",
       "      <td>47</td>\n",
       "      <td>10.114</td>\n",
       "      <td>3</td>\n",
       "      <td>1.0</td>\n",
       "      <td>1.0</td>\n",
       "      <td>0.0</td>\n",
       "      <td>0.0</td>\n",
       "    </tr>\n",
       "    <tr>\n",
       "      <th>3</th>\n",
       "      <td>3</td>\n",
       "      <td>28</td>\n",
       "      <td>7.798</td>\n",
       "      <td>4</td>\n",
       "      <td>0.0</td>\n",
       "      <td>0.0</td>\n",
       "      <td>1.0</td>\n",
       "      <td>0.0</td>\n",
       "    </tr>\n",
       "    <tr>\n",
       "      <th>4</th>\n",
       "      <td>4</td>\n",
       "      <td>61</td>\n",
       "      <td>18.043</td>\n",
       "      <td>0</td>\n",
       "      <td>0.0</td>\n",
       "      <td>1.0</td>\n",
       "      <td>0.0</td>\n",
       "      <td>0.0</td>\n",
       "    </tr>\n",
       "    <tr>\n",
       "      <th>...</th>\n",
       "      <td>...</td>\n",
       "      <td>...</td>\n",
       "      <td>...</td>\n",
       "      <td>...</td>\n",
       "      <td>...</td>\n",
       "      <td>...</td>\n",
       "      <td>...</td>\n",
       "      <td>...</td>\n",
       "    </tr>\n",
       "    <tr>\n",
       "      <th>195</th>\n",
       "      <td>195</td>\n",
       "      <td>56</td>\n",
       "      <td>11.567</td>\n",
       "      <td>3</td>\n",
       "      <td>0.0</td>\n",
       "      <td>1.0</td>\n",
       "      <td>0.0</td>\n",
       "      <td>0.0</td>\n",
       "    </tr>\n",
       "    <tr>\n",
       "      <th>196</th>\n",
       "      <td>196</td>\n",
       "      <td>16</td>\n",
       "      <td>12.006</td>\n",
       "      <td>3</td>\n",
       "      <td>1.0</td>\n",
       "      <td>1.0</td>\n",
       "      <td>0.0</td>\n",
       "      <td>0.0</td>\n",
       "    </tr>\n",
       "    <tr>\n",
       "      <th>197</th>\n",
       "      <td>197</td>\n",
       "      <td>52</td>\n",
       "      <td>9.894</td>\n",
       "      <td>4</td>\n",
       "      <td>1.0</td>\n",
       "      <td>0.0</td>\n",
       "      <td>1.0</td>\n",
       "      <td>0.0</td>\n",
       "    </tr>\n",
       "    <tr>\n",
       "      <th>198</th>\n",
       "      <td>198</td>\n",
       "      <td>23</td>\n",
       "      <td>14.020</td>\n",
       "      <td>4</td>\n",
       "      <td>1.0</td>\n",
       "      <td>0.0</td>\n",
       "      <td>1.0</td>\n",
       "      <td>1.0</td>\n",
       "    </tr>\n",
       "    <tr>\n",
       "      <th>199</th>\n",
       "      <td>199</td>\n",
       "      <td>40</td>\n",
       "      <td>11.349</td>\n",
       "      <td>4</td>\n",
       "      <td>0.0</td>\n",
       "      <td>1.0</td>\n",
       "      <td>0.0</td>\n",
       "      <td>1.0</td>\n",
       "    </tr>\n",
       "  </tbody>\n",
       "</table>\n",
       "<p>200 rows × 8 columns</p>\n",
       "</div>"
      ],
      "text/plain": [
       "     index  Age  Na_to_K  Drug  Sex_M  BP_LOW  BP_NORMAL  Cholesterol_NORMAL\n",
       "0        0   23   25.355     0    0.0     0.0        0.0                 0.0\n",
       "1        1   47   13.093     3    1.0     1.0        0.0                 0.0\n",
       "2        2   47   10.114     3    1.0     1.0        0.0                 0.0\n",
       "3        3   28    7.798     4    0.0     0.0        1.0                 0.0\n",
       "4        4   61   18.043     0    0.0     1.0        0.0                 0.0\n",
       "..     ...  ...      ...   ...    ...     ...        ...                 ...\n",
       "195    195   56   11.567     3    0.0     1.0        0.0                 0.0\n",
       "196    196   16   12.006     3    1.0     1.0        0.0                 0.0\n",
       "197    197   52    9.894     4    1.0     0.0        1.0                 0.0\n",
       "198    198   23   14.020     4    1.0     0.0        1.0                 1.0\n",
       "199    199   40   11.349     4    0.0     1.0        0.0                 1.0\n",
       "\n",
       "[200 rows x 8 columns]"
      ]
     },
     "execution_count": 45,
     "metadata": {},
     "output_type": "execute_result"
    }
   ],
   "source": [
    "df_encoded=df_encoded.drop(cat_col,axis=1)\n",
    "df_encoded"
   ]
  },
  {
   "cell_type": "code",
   "execution_count": 46,
   "id": "43025f95",
   "metadata": {
    "execution": {
     "iopub.execute_input": "2025-04-11T17:02:47.944832Z",
     "iopub.status.busy": "2025-04-11T17:02:47.944545Z",
     "iopub.status.idle": "2025-04-11T17:02:47.948986Z",
     "shell.execute_reply": "2025-04-11T17:02:47.948272Z"
    },
    "papermill": {
     "duration": 0.036545,
     "end_time": "2025-04-11T17:02:47.950422",
     "exception": false,
     "start_time": "2025-04-11T17:02:47.913877",
     "status": "completed"
    },
    "tags": []
   },
   "outputs": [],
   "source": [
    "X = df_encoded.drop(\"Drug\",axis=1)\n",
    "y = df_encoded[\"Drug\"]\n"
   ]
  },
  {
   "cell_type": "code",
   "execution_count": 47,
   "id": "8286f116",
   "metadata": {
    "execution": {
     "iopub.execute_input": "2025-04-11T17:02:48.012623Z",
     "iopub.status.busy": "2025-04-11T17:02:48.012355Z",
     "iopub.status.idle": "2025-04-11T17:02:48.026181Z",
     "shell.execute_reply": "2025-04-11T17:02:48.025489Z"
    },
    "papermill": {
     "duration": 0.04588,
     "end_time": "2025-04-11T17:02:48.027491",
     "exception": false,
     "start_time": "2025-04-11T17:02:47.981611",
     "status": "completed"
    },
    "tags": []
   },
   "outputs": [
    {
     "data": {
      "text/html": [
       "<div>\n",
       "<style scoped>\n",
       "    .dataframe tbody tr th:only-of-type {\n",
       "        vertical-align: middle;\n",
       "    }\n",
       "\n",
       "    .dataframe tbody tr th {\n",
       "        vertical-align: top;\n",
       "    }\n",
       "\n",
       "    .dataframe thead th {\n",
       "        text-align: right;\n",
       "    }\n",
       "</style>\n",
       "<table border=\"1\" class=\"dataframe\">\n",
       "  <thead>\n",
       "    <tr style=\"text-align: right;\">\n",
       "      <th></th>\n",
       "      <th>Age</th>\n",
       "      <th>Na_to_K</th>\n",
       "      <th>Sex_M</th>\n",
       "      <th>BP_LOW</th>\n",
       "      <th>BP_NORMAL</th>\n",
       "      <th>Cholesterol_NORMAL</th>\n",
       "    </tr>\n",
       "  </thead>\n",
       "  <tbody>\n",
       "    <tr>\n",
       "      <th>0</th>\n",
       "      <td>23</td>\n",
       "      <td>25.355</td>\n",
       "      <td>0.0</td>\n",
       "      <td>0.0</td>\n",
       "      <td>0.0</td>\n",
       "      <td>0.0</td>\n",
       "    </tr>\n",
       "    <tr>\n",
       "      <th>1</th>\n",
       "      <td>47</td>\n",
       "      <td>13.093</td>\n",
       "      <td>1.0</td>\n",
       "      <td>1.0</td>\n",
       "      <td>0.0</td>\n",
       "      <td>0.0</td>\n",
       "    </tr>\n",
       "    <tr>\n",
       "      <th>2</th>\n",
       "      <td>47</td>\n",
       "      <td>10.114</td>\n",
       "      <td>1.0</td>\n",
       "      <td>1.0</td>\n",
       "      <td>0.0</td>\n",
       "      <td>0.0</td>\n",
       "    </tr>\n",
       "    <tr>\n",
       "      <th>3</th>\n",
       "      <td>28</td>\n",
       "      <td>7.798</td>\n",
       "      <td>0.0</td>\n",
       "      <td>0.0</td>\n",
       "      <td>1.0</td>\n",
       "      <td>0.0</td>\n",
       "    </tr>\n",
       "    <tr>\n",
       "      <th>4</th>\n",
       "      <td>61</td>\n",
       "      <td>18.043</td>\n",
       "      <td>0.0</td>\n",
       "      <td>1.0</td>\n",
       "      <td>0.0</td>\n",
       "      <td>0.0</td>\n",
       "    </tr>\n",
       "    <tr>\n",
       "      <th>...</th>\n",
       "      <td>...</td>\n",
       "      <td>...</td>\n",
       "      <td>...</td>\n",
       "      <td>...</td>\n",
       "      <td>...</td>\n",
       "      <td>...</td>\n",
       "    </tr>\n",
       "    <tr>\n",
       "      <th>195</th>\n",
       "      <td>56</td>\n",
       "      <td>11.567</td>\n",
       "      <td>0.0</td>\n",
       "      <td>1.0</td>\n",
       "      <td>0.0</td>\n",
       "      <td>0.0</td>\n",
       "    </tr>\n",
       "    <tr>\n",
       "      <th>196</th>\n",
       "      <td>16</td>\n",
       "      <td>12.006</td>\n",
       "      <td>1.0</td>\n",
       "      <td>1.0</td>\n",
       "      <td>0.0</td>\n",
       "      <td>0.0</td>\n",
       "    </tr>\n",
       "    <tr>\n",
       "      <th>197</th>\n",
       "      <td>52</td>\n",
       "      <td>9.894</td>\n",
       "      <td>1.0</td>\n",
       "      <td>0.0</td>\n",
       "      <td>1.0</td>\n",
       "      <td>0.0</td>\n",
       "    </tr>\n",
       "    <tr>\n",
       "      <th>198</th>\n",
       "      <td>23</td>\n",
       "      <td>14.020</td>\n",
       "      <td>1.0</td>\n",
       "      <td>0.0</td>\n",
       "      <td>1.0</td>\n",
       "      <td>1.0</td>\n",
       "    </tr>\n",
       "    <tr>\n",
       "      <th>199</th>\n",
       "      <td>40</td>\n",
       "      <td>11.349</td>\n",
       "      <td>0.0</td>\n",
       "      <td>1.0</td>\n",
       "      <td>0.0</td>\n",
       "      <td>1.0</td>\n",
       "    </tr>\n",
       "  </tbody>\n",
       "</table>\n",
       "<p>200 rows × 6 columns</p>\n",
       "</div>"
      ],
      "text/plain": [
       "     Age  Na_to_K  Sex_M  BP_LOW  BP_NORMAL  Cholesterol_NORMAL\n",
       "0     23   25.355    0.0     0.0        0.0                 0.0\n",
       "1     47   13.093    1.0     1.0        0.0                 0.0\n",
       "2     47   10.114    1.0     1.0        0.0                 0.0\n",
       "3     28    7.798    0.0     0.0        1.0                 0.0\n",
       "4     61   18.043    0.0     1.0        0.0                 0.0\n",
       "..   ...      ...    ...     ...        ...                 ...\n",
       "195   56   11.567    0.0     1.0        0.0                 0.0\n",
       "196   16   12.006    1.0     1.0        0.0                 0.0\n",
       "197   52    9.894    1.0     0.0        1.0                 0.0\n",
       "198   23   14.020    1.0     0.0        1.0                 1.0\n",
       "199   40   11.349    0.0     1.0        0.0                 1.0\n",
       "\n",
       "[200 rows x 6 columns]"
      ]
     },
     "execution_count": 47,
     "metadata": {},
     "output_type": "execute_result"
    }
   ],
   "source": [
    "X.drop(\"index\",axis=1,inplace=True)\n",
    "X"
   ]
  },
  {
   "cell_type": "code",
   "execution_count": 48,
   "id": "5560aea6",
   "metadata": {
    "execution": {
     "iopub.execute_input": "2025-04-11T17:02:48.084899Z",
     "iopub.status.busy": "2025-04-11T17:02:48.084630Z",
     "iopub.status.idle": "2025-04-11T17:02:48.090579Z",
     "shell.execute_reply": "2025-04-11T17:02:48.089901Z"
    },
    "papermill": {
     "duration": 0.035558,
     "end_time": "2025-04-11T17:02:48.091981",
     "exception": false,
     "start_time": "2025-04-11T17:02:48.056423",
     "status": "completed"
    },
    "tags": []
   },
   "outputs": [],
   "source": [
    "X_train,X_test,y_train,y_test= train_test_split(X,y,test_size=0.25,random_state=42,stratify=y)"
   ]
  },
  {
   "cell_type": "code",
   "execution_count": 49,
   "id": "661d22ff",
   "metadata": {
    "execution": {
     "iopub.execute_input": "2025-04-11T17:02:48.151963Z",
     "iopub.status.busy": "2025-04-11T17:02:48.151707Z",
     "iopub.status.idle": "2025-04-11T17:02:48.154792Z",
     "shell.execute_reply": "2025-04-11T17:02:48.154172Z"
    },
    "papermill": {
     "duration": 0.033265,
     "end_time": "2025-04-11T17:02:48.156016",
     "exception": false,
     "start_time": "2025-04-11T17:02:48.122751",
     "status": "completed"
    },
    "tags": []
   },
   "outputs": [],
   "source": [
    "import warnings\n",
    "warnings.filterwarnings(\"ignore\")"
   ]
  },
  {
   "cell_type": "code",
   "execution_count": 50,
   "id": "544e1f8d",
   "metadata": {
    "execution": {
     "iopub.execute_input": "2025-04-11T17:02:48.221068Z",
     "iopub.status.busy": "2025-04-11T17:02:48.220767Z",
     "iopub.status.idle": "2025-04-11T17:03:45.134079Z",
     "shell.execute_reply": "2025-04-11T17:03:45.132833Z"
    },
    "papermill": {
     "duration": 56.951209,
     "end_time": "2025-04-11T17:03:45.135704",
     "exception": false,
     "start_time": "2025-04-11T17:02:48.184495",
     "status": "completed"
    },
    "tags": []
   },
   "outputs": [
    {
     "name": "stdout",
     "output_type": "stream",
     "text": [
      "\n",
      " Model name is Logistc \n",
      " \n",
      "Best Paramters {'clf__C': 10, 'clf__penalty': 'l1', 'clf__solver': 'liblinear'}\n",
      "\n",
      " \n",
      " Accuracy : 0.920\n",
      "\n",
      " \n",
      " Classifcation report \n",
      "               precision    recall  f1-score   support\n",
      "\n",
      "           0       0.88      0.96      0.92        23\n",
      "           1       1.00      1.00      1.00         6\n",
      "           2       1.00      0.50      0.67         4\n",
      "           3       1.00      1.00      1.00         4\n",
      "           4       0.92      0.92      0.92        13\n",
      "\n",
      "    accuracy                           0.92        50\n",
      "   macro avg       0.96      0.88      0.90        50\n",
      "weighted avg       0.92      0.92      0.92        50\n",
      "\n",
      "\n",
      " \n",
      " \n",
      " Confusion matirx \n",
      " [[22  0  0  0  1]\n",
      " [ 0  6  0  0  0]\n",
      " [ 2  0  2  0  0]\n",
      " [ 0  0  0  4  0]\n",
      " [ 1  0  0  0 12]]\n",
      "====================================================================\n",
      "\n",
      " Model name is Knn \n",
      " \n",
      "Best Paramters {'clf__metric': 'manhattan', 'clf__n_neighbors': 7, 'clf__weights': 'distance'}\n",
      "\n",
      " \n",
      " Accuracy : 0.780\n",
      "\n",
      " \n",
      " Classifcation report \n",
      "               precision    recall  f1-score   support\n",
      "\n",
      "           0       0.92      1.00      0.96        23\n",
      "           1       0.75      0.50      0.60         6\n",
      "           2       1.00      0.50      0.67         4\n",
      "           3       0.33      0.25      0.29         4\n",
      "           4       0.62      0.77      0.69        13\n",
      "\n",
      "    accuracy                           0.78        50\n",
      "   macro avg       0.73      0.60      0.64        50\n",
      "weighted avg       0.78      0.78      0.77        50\n",
      "\n",
      "\n",
      " \n",
      " \n",
      " Confusion matirx \n",
      " [[23  0  0  0  0]\n",
      " [ 1  3  0  0  2]\n",
      " [ 0  0  2  0  2]\n",
      " [ 0  1  0  1  2]\n",
      " [ 1  0  0  2 10]]\n",
      "====================================================================\n",
      "\n",
      " Model name is DeTree \n",
      " \n",
      "Best Paramters {'clf__max_depth': 5, 'clf__min_samples_split': 2}\n",
      "\n",
      " \n",
      " Accuracy : 0.980\n",
      "\n",
      " \n",
      " Classifcation report \n",
      "               precision    recall  f1-score   support\n",
      "\n",
      "           0       0.96      1.00      0.98        23\n",
      "           1       1.00      1.00      1.00         6\n",
      "           2       1.00      1.00      1.00         4\n",
      "           3       1.00      1.00      1.00         4\n",
      "           4       1.00      0.92      0.96        13\n",
      "\n",
      "    accuracy                           0.98        50\n",
      "   macro avg       0.99      0.98      0.99        50\n",
      "weighted avg       0.98      0.98      0.98        50\n",
      "\n",
      "\n",
      " \n",
      " \n",
      " Confusion matirx \n",
      " [[23  0  0  0  0]\n",
      " [ 0  6  0  0  0]\n",
      " [ 0  0  4  0  0]\n",
      " [ 0  0  0  4  0]\n",
      " [ 1  0  0  0 12]]\n",
      "====================================================================\n",
      "\n",
      " Model name is Randfore \n",
      " \n",
      "Best Paramters {'clf__max_depth': 3, 'clf__min_samples_split': 2, 'clf__n_estimators': 400}\n",
      "\n",
      " \n",
      " Accuracy : 0.980\n",
      "\n",
      " \n",
      " Classifcation report \n",
      "               precision    recall  f1-score   support\n",
      "\n",
      "           0       0.96      1.00      0.98        23\n",
      "           1       1.00      1.00      1.00         6\n",
      "           2       1.00      1.00      1.00         4\n",
      "           3       1.00      1.00      1.00         4\n",
      "           4       1.00      0.92      0.96        13\n",
      "\n",
      "    accuracy                           0.98        50\n",
      "   macro avg       0.99      0.98      0.99        50\n",
      "weighted avg       0.98      0.98      0.98        50\n",
      "\n",
      "\n",
      " \n",
      " \n",
      " Confusion matirx \n",
      " [[23  0  0  0  0]\n",
      " [ 0  6  0  0  0]\n",
      " [ 0  0  4  0  0]\n",
      " [ 0  0  0  4  0]\n",
      " [ 1  0  0  0 12]]\n",
      "====================================================================\n",
      "\n",
      " Model name is svm \n",
      " \n",
      "Best Paramters {'clf__C': 1, 'clf__degree': 1, 'clf__gamma': 'scale', 'clf__kernel': 'linear'}\n",
      "\n",
      " \n",
      " Accuracy : 0.980\n",
      "\n",
      " \n",
      " Classifcation report \n",
      "               precision    recall  f1-score   support\n",
      "\n",
      "           0       0.96      1.00      0.98        23\n",
      "           1       1.00      1.00      1.00         6\n",
      "           2       1.00      1.00      1.00         4\n",
      "           3       1.00      1.00      1.00         4\n",
      "           4       1.00      0.92      0.96        13\n",
      "\n",
      "    accuracy                           0.98        50\n",
      "   macro avg       0.99      0.98      0.99        50\n",
      "weighted avg       0.98      0.98      0.98        50\n",
      "\n",
      "\n",
      " \n",
      " \n",
      " Confusion matirx \n",
      " [[23  0  0  0  0]\n",
      " [ 0  6  0  0  0]\n",
      " [ 0  0  4  0  0]\n",
      " [ 0  0  0  4  0]\n",
      " [ 1  0  0  0 12]]\n",
      "====================================================================\n",
      "------------- Final Result -------------\n"
     ]
    }
   ],
   "source": [
    "pipeliness={\n",
    "    \"Logistc\": { \"pipeline\" : Pipeline([(\"clf\",LogisticRegression())]) \n",
    "                ,\"param\": {\n",
    "                    'clf__C': [0.1, 1, 10],'clf__penalty': ['l2','l1'],'clf__solver': ['lbfgs', 'liblinear']} },\n",
    "\n",
    "   \n",
    "    \"Knn\": { \"pipeline\" : Pipeline([(\"clf\",KNeighborsClassifier())]) \n",
    "                ,\"param\": {\n",
    "                    'clf__n_neighbors': [3,5,7,9,11],'clf__weights':['uniform', 'distance'],'clf__metric':['eucldiean','manhattan']} },\n",
    "   \n",
    "  \n",
    "    \"DeTree\": { \"pipeline\" : Pipeline([(\"clf\",DecisionTreeClassifier())]) \n",
    "                ,\"param\": {\n",
    "                    \"clf__max_depth\":[2,3,5,7,None], \"clf__min_samples_split\":[2,5,7,10] } },\n",
    "   \n",
    "  \n",
    "    \"Randfore\": { \"pipeline\" : Pipeline([(\"clf\",RandomForestClassifier())]) \n",
    "                ,\"param\": {\n",
    "                    \"clf__n_estimators\":[100,200,400,600], \"clf__max_depth\":[3,5,7,None],'clf__min_samples_split': [2, 5,8]} },\n",
    "\n",
    "    \n",
    "    \"svm\": { \"pipeline\" : Pipeline([(\"clf\",SVC())]) \n",
    "                ,\"param\": {\n",
    "                    'clf__C': [0.1, 1, 10],'clf__kernel': ['linear','rbf','poly'],'clf__gamma': ['scale', 'auto'],\"clf__degree\":[1,2,3]} },\n",
    "}\n",
    "\n",
    "\n",
    "\n",
    "\n",
    "best_models = {}\n",
    "results=[]\n",
    "# kf=KFold(n_splits=3 )\n",
    "for name , config in pipeliness.items():\n",
    "\n",
    "    model_cv= GridSearchCV(\n",
    "        estimator= config[\"pipeline\"],\n",
    "        param_grid= config[\"param\"],\n",
    "        \n",
    "        n_jobs=-1, # this we used to make grid search use all cpuu Cores to make it fast\n",
    "        scoring='accuracy')\n",
    "    \n",
    "    model_cv.fit(X_train,y_train)\n",
    "\n",
    "    best_models[name]=model_cv.best_estimator_\n",
    "\n",
    "    y_pred = model_cv.predict(X_test)\n",
    "    accuracy = accuracy_score(y_test,y_pred)\n",
    "    \n",
    "    \n",
    "    results.append({\n",
    "        'model':name,\n",
    "        'best_param':model_cv.best_params_,\n",
    "        'accuracy' : accuracy,\n",
    "        'best_estimator':model_cv.best_estimator_\n",
    "        \n",
    "    })\n",
    "    print(f\"\\n Model name is {name} \\n \")\n",
    "    print(f\"Best Paramters {model_cv.best_params_}\")\n",
    "    print(f\"\\n \\n Accuracy : {accuracy:.3f}\")\n",
    "    print(f\"\\n \\n Classifcation report \\n {classification_report(y_test,y_pred)}\")\n",
    "    print(f\"\\n \\n \\n Confusion matirx \\n {confusion_matrix(y_test,y_pred) }\")\n",
    "    print(\"====================================================================\")\n",
    "\n",
    "\n",
    "result_df = pd.DataFrame(results).sort_values('accuracy',ascending=False)\n",
    "\n",
    "\n",
    "\n",
    "result_df.head()\n",
    "print(\"------------- Final Result -------------\")\n",
    "\n",
    "\n",
    "    "
   ]
  },
  {
   "cell_type": "code",
   "execution_count": 51,
   "id": "f5bd7311",
   "metadata": {
    "execution": {
     "iopub.execute_input": "2025-04-11T17:03:45.197316Z",
     "iopub.status.busy": "2025-04-11T17:03:45.196998Z",
     "iopub.status.idle": "2025-04-11T17:03:45.259959Z",
     "shell.execute_reply": "2025-04-11T17:03:45.259066Z"
    },
    "papermill": {
     "duration": 0.094637,
     "end_time": "2025-04-11T17:03:45.261376",
     "exception": false,
     "start_time": "2025-04-11T17:03:45.166739",
     "status": "completed"
    },
    "tags": []
   },
   "outputs": [
    {
     "data": {
      "text/html": [
       "<div>\n",
       "<style scoped>\n",
       "    .dataframe tbody tr th:only-of-type {\n",
       "        vertical-align: middle;\n",
       "    }\n",
       "\n",
       "    .dataframe tbody tr th {\n",
       "        vertical-align: top;\n",
       "    }\n",
       "\n",
       "    .dataframe thead th {\n",
       "        text-align: right;\n",
       "    }\n",
       "</style>\n",
       "<table border=\"1\" class=\"dataframe\">\n",
       "  <thead>\n",
       "    <tr style=\"text-align: right;\">\n",
       "      <th></th>\n",
       "      <th>model</th>\n",
       "      <th>best_param</th>\n",
       "      <th>accuracy</th>\n",
       "      <th>best_estimator</th>\n",
       "    </tr>\n",
       "  </thead>\n",
       "  <tbody>\n",
       "    <tr>\n",
       "      <th>2</th>\n",
       "      <td>DeTree</td>\n",
       "      <td>{'clf__max_depth': 5, 'clf__min_samples_split'...</td>\n",
       "      <td>0.98</td>\n",
       "      <td>(DecisionTreeClassifier(max_depth=5))</td>\n",
       "    </tr>\n",
       "    <tr>\n",
       "      <th>4</th>\n",
       "      <td>svm</td>\n",
       "      <td>{'clf__C': 1, 'clf__degree': 1, 'clf__gamma': ...</td>\n",
       "      <td>0.98</td>\n",
       "      <td>(SVC(C=1, degree=1, kernel='linear'))</td>\n",
       "    </tr>\n",
       "    <tr>\n",
       "      <th>3</th>\n",
       "      <td>Randfore</td>\n",
       "      <td>{'clf__max_depth': 3, 'clf__min_samples_split'...</td>\n",
       "      <td>0.98</td>\n",
       "      <td>((DecisionTreeClassifier(max_depth=3, max_feat...</td>\n",
       "    </tr>\n",
       "    <tr>\n",
       "      <th>0</th>\n",
       "      <td>Logistc</td>\n",
       "      <td>{'clf__C': 10, 'clf__penalty': 'l1', 'clf__sol...</td>\n",
       "      <td>0.92</td>\n",
       "      <td>(LogisticRegression(C=10, penalty='l1', solver...</td>\n",
       "    </tr>\n",
       "    <tr>\n",
       "      <th>1</th>\n",
       "      <td>Knn</td>\n",
       "      <td>{'clf__metric': 'manhattan', 'clf__n_neighbors...</td>\n",
       "      <td>0.78</td>\n",
       "      <td>(KNeighborsClassifier(metric='manhattan', n_ne...</td>\n",
       "    </tr>\n",
       "  </tbody>\n",
       "</table>\n",
       "</div>"
      ],
      "text/plain": [
       "      model                                         best_param  accuracy  \\\n",
       "2    DeTree  {'clf__max_depth': 5, 'clf__min_samples_split'...      0.98   \n",
       "4       svm  {'clf__C': 1, 'clf__degree': 1, 'clf__gamma': ...      0.98   \n",
       "3  Randfore  {'clf__max_depth': 3, 'clf__min_samples_split'...      0.98   \n",
       "0   Logistc  {'clf__C': 10, 'clf__penalty': 'l1', 'clf__sol...      0.92   \n",
       "1       Knn  {'clf__metric': 'manhattan', 'clf__n_neighbors...      0.78   \n",
       "\n",
       "                                      best_estimator  \n",
       "2              (DecisionTreeClassifier(max_depth=5))  \n",
       "4              (SVC(C=1, degree=1, kernel='linear'))  \n",
       "3  ((DecisionTreeClassifier(max_depth=3, max_feat...  \n",
       "0  (LogisticRegression(C=10, penalty='l1', solver...  \n",
       "1  (KNeighborsClassifier(metric='manhattan', n_ne...  "
      ]
     },
     "execution_count": 51,
     "metadata": {},
     "output_type": "execute_result"
    }
   ],
   "source": [
    "result_df"
   ]
  },
  {
   "cell_type": "code",
   "execution_count": 52,
   "id": "81824cfc",
   "metadata": {
    "execution": {
     "iopub.execute_input": "2025-04-11T17:03:45.323624Z",
     "iopub.status.busy": "2025-04-11T17:03:45.323365Z",
     "iopub.status.idle": "2025-04-11T17:03:45.329140Z",
     "shell.execute_reply": "2025-04-11T17:03:45.328136Z"
    },
    "papermill": {
     "duration": 0.037848,
     "end_time": "2025-04-11T17:03:45.330600",
     "exception": false,
     "start_time": "2025-04-11T17:03:45.292752",
     "status": "completed"
    },
    "tags": []
   },
   "outputs": [
    {
     "name": "stdout",
     "output_type": "stream",
     "text": [
      "Best model is model    DeTree\n",
      "Name: 2, dtype: object \n",
      "And his accuracy is 0.98\n"
     ]
    }
   ],
   "source": [
    "print(f\"Best model is {result_df.iloc[0][['model']]} \")\n",
    "print(f\"And his accuracy is {result_df.iloc[0]['accuracy']}\")"
   ]
  },
  {
   "cell_type": "code",
   "execution_count": 53,
   "id": "ba386974",
   "metadata": {
    "execution": {
     "iopub.execute_input": "2025-04-11T17:03:45.392223Z",
     "iopub.status.busy": "2025-04-11T17:03:45.391943Z",
     "iopub.status.idle": "2025-04-11T17:03:45.398080Z",
     "shell.execute_reply": "2025-04-11T17:03:45.397251Z"
    },
    "papermill": {
     "duration": 0.037563,
     "end_time": "2025-04-11T17:03:45.399483",
     "exception": false,
     "start_time": "2025-04-11T17:03:45.361920",
     "status": "completed"
    },
    "tags": []
   },
   "outputs": [
    {
     "data": {
      "text/html": [
       "<style>#sk-container-id-1 {color: black;background-color: white;}#sk-container-id-1 pre{padding: 0;}#sk-container-id-1 div.sk-toggleable {background-color: white;}#sk-container-id-1 label.sk-toggleable__label {cursor: pointer;display: block;width: 100%;margin-bottom: 0;padding: 0.3em;box-sizing: border-box;text-align: center;}#sk-container-id-1 label.sk-toggleable__label-arrow:before {content: \"▸\";float: left;margin-right: 0.25em;color: #696969;}#sk-container-id-1 label.sk-toggleable__label-arrow:hover:before {color: black;}#sk-container-id-1 div.sk-estimator:hover label.sk-toggleable__label-arrow:before {color: black;}#sk-container-id-1 div.sk-toggleable__content {max-height: 0;max-width: 0;overflow: hidden;text-align: left;background-color: #f0f8ff;}#sk-container-id-1 div.sk-toggleable__content pre {margin: 0.2em;color: black;border-radius: 0.25em;background-color: #f0f8ff;}#sk-container-id-1 input.sk-toggleable__control:checked~div.sk-toggleable__content {max-height: 200px;max-width: 100%;overflow: auto;}#sk-container-id-1 input.sk-toggleable__control:checked~label.sk-toggleable__label-arrow:before {content: \"▾\";}#sk-container-id-1 div.sk-estimator input.sk-toggleable__control:checked~label.sk-toggleable__label {background-color: #d4ebff;}#sk-container-id-1 div.sk-label input.sk-toggleable__control:checked~label.sk-toggleable__label {background-color: #d4ebff;}#sk-container-id-1 input.sk-hidden--visually {border: 0;clip: rect(1px 1px 1px 1px);clip: rect(1px, 1px, 1px, 1px);height: 1px;margin: -1px;overflow: hidden;padding: 0;position: absolute;width: 1px;}#sk-container-id-1 div.sk-estimator {font-family: monospace;background-color: #f0f8ff;border: 1px dotted black;border-radius: 0.25em;box-sizing: border-box;margin-bottom: 0.5em;}#sk-container-id-1 div.sk-estimator:hover {background-color: #d4ebff;}#sk-container-id-1 div.sk-parallel-item::after {content: \"\";width: 100%;border-bottom: 1px solid gray;flex-grow: 1;}#sk-container-id-1 div.sk-label:hover label.sk-toggleable__label {background-color: #d4ebff;}#sk-container-id-1 div.sk-serial::before {content: \"\";position: absolute;border-left: 1px solid gray;box-sizing: border-box;top: 0;bottom: 0;left: 50%;z-index: 0;}#sk-container-id-1 div.sk-serial {display: flex;flex-direction: column;align-items: center;background-color: white;padding-right: 0.2em;padding-left: 0.2em;position: relative;}#sk-container-id-1 div.sk-item {position: relative;z-index: 1;}#sk-container-id-1 div.sk-parallel {display: flex;align-items: stretch;justify-content: center;background-color: white;position: relative;}#sk-container-id-1 div.sk-item::before, #sk-container-id-1 div.sk-parallel-item::before {content: \"\";position: absolute;border-left: 1px solid gray;box-sizing: border-box;top: 0;bottom: 0;left: 50%;z-index: -1;}#sk-container-id-1 div.sk-parallel-item {display: flex;flex-direction: column;z-index: 1;position: relative;background-color: white;}#sk-container-id-1 div.sk-parallel-item:first-child::after {align-self: flex-end;width: 50%;}#sk-container-id-1 div.sk-parallel-item:last-child::after {align-self: flex-start;width: 50%;}#sk-container-id-1 div.sk-parallel-item:only-child::after {width: 0;}#sk-container-id-1 div.sk-dashed-wrapped {border: 1px dashed gray;margin: 0 0.4em 0.5em 0.4em;box-sizing: border-box;padding-bottom: 0.4em;background-color: white;}#sk-container-id-1 div.sk-label label {font-family: monospace;font-weight: bold;display: inline-block;line-height: 1.2em;}#sk-container-id-1 div.sk-label-container {text-align: center;}#sk-container-id-1 div.sk-container {/* jupyter's `normalize.less` sets `[hidden] { display: none; }` but bootstrap.min.css set `[hidden] { display: none !important; }` so we also need the `!important` here to be able to override the default hidden behavior on the sphinx rendered scikit-learn.org. See: https://github.com/scikit-learn/scikit-learn/issues/21755 */display: inline-block !important;position: relative;}#sk-container-id-1 div.sk-text-repr-fallback {display: none;}</style><div id=\"sk-container-id-1\" class=\"sk-top-container\"><div class=\"sk-text-repr-fallback\"><pre>Pipeline(steps=[(&#x27;clf&#x27;, DecisionTreeClassifier(max_depth=5))])</pre><b>In a Jupyter environment, please rerun this cell to show the HTML representation or trust the notebook. <br />On GitHub, the HTML representation is unable to render, please try loading this page with nbviewer.org.</b></div><div class=\"sk-container\" hidden><div class=\"sk-item sk-dashed-wrapped\"><div class=\"sk-label-container\"><div class=\"sk-label sk-toggleable\"><input class=\"sk-toggleable__control sk-hidden--visually\" id=\"sk-estimator-id-1\" type=\"checkbox\" ><label for=\"sk-estimator-id-1\" class=\"sk-toggleable__label sk-toggleable__label-arrow\">Pipeline</label><div class=\"sk-toggleable__content\"><pre>Pipeline(steps=[(&#x27;clf&#x27;, DecisionTreeClassifier(max_depth=5))])</pre></div></div></div><div class=\"sk-serial\"><div class=\"sk-item\"><div class=\"sk-estimator sk-toggleable\"><input class=\"sk-toggleable__control sk-hidden--visually\" id=\"sk-estimator-id-2\" type=\"checkbox\" ><label for=\"sk-estimator-id-2\" class=\"sk-toggleable__label sk-toggleable__label-arrow\">DecisionTreeClassifier</label><div class=\"sk-toggleable__content\"><pre>DecisionTreeClassifier(max_depth=5)</pre></div></div></div></div></div></div></div>"
      ],
      "text/plain": [
       "Pipeline(steps=[('clf', DecisionTreeClassifier(max_depth=5))])"
      ]
     },
     "execution_count": 53,
     "metadata": {},
     "output_type": "execute_result"
    }
   ],
   "source": [
    "best_model_name = result_df.iloc[0]['model']\n",
    "best_model = best_models[best_model_name]\n",
    "best_model"
   ]
  },
  {
   "cell_type": "code",
   "execution_count": 54,
   "id": "ef1d5d88",
   "metadata": {
    "execution": {
     "iopub.execute_input": "2025-04-11T17:03:45.460348Z",
     "iopub.status.busy": "2025-04-11T17:03:45.460100Z",
     "iopub.status.idle": "2025-04-11T17:03:45.465429Z",
     "shell.execute_reply": "2025-04-11T17:03:45.464764Z"
    },
    "papermill": {
     "duration": 0.035756,
     "end_time": "2025-04-11T17:03:45.466616",
     "exception": false,
     "start_time": "2025-04-11T17:03:45.430860",
     "status": "completed"
    },
    "tags": []
   },
   "outputs": [
    {
     "data": {
      "text/plain": [
       "index               0\n",
       "Age                23\n",
       "Sex                 F\n",
       "BP               HIGH\n",
       "Cholesterol      HIGH\n",
       "Na_to_K        25.355\n",
       "Drug            DrugY\n",
       "Name: 0, dtype: object"
      ]
     },
     "execution_count": 54,
     "metadata": {},
     "output_type": "execute_result"
    }
   ],
   "source": [
    "drug_df.iloc[0]"
   ]
  },
  {
   "cell_type": "code",
   "execution_count": 55,
   "id": "d6cb3658",
   "metadata": {
    "execution": {
     "iopub.execute_input": "2025-04-11T17:03:45.524954Z",
     "iopub.status.busy": "2025-04-11T17:03:45.524738Z",
     "iopub.status.idle": "2025-04-11T17:03:45.535867Z",
     "shell.execute_reply": "2025-04-11T17:03:45.535128Z"
    },
    "papermill": {
     "duration": 0.041478,
     "end_time": "2025-04-11T17:03:45.537043",
     "exception": false,
     "start_time": "2025-04-11T17:03:45.495565",
     "status": "completed"
    },
    "tags": []
   },
   "outputs": [
    {
     "data": {
      "text/plain": [
       "array([0])"
      ]
     },
     "execution_count": 55,
     "metadata": {},
     "output_type": "execute_result"
    }
   ],
   "source": [
    "def preprocess(data):\n",
    "    new_df = pd.DataFrame(data)\n",
    "    new_encoded_X=encoder.transform(new_df[cat_col])\n",
    "    \n",
    "    one_hot_df = pd.DataFrame(new_encoded_X, columns=encoder.get_feature_names_out(cat_col))\n",
    "    \n",
    "    new_encoded = pd.concat([new_df, one_hot_df], axis=1)\n",
    "    new_encoded.drop(cat_col,axis=1,inplace=True)\n",
    "    return new_encoded\n",
    "\n",
    "\n",
    "\n",
    "new_data = {\n",
    "    'Age': [23], \n",
    "    'Sex': ['F'], \n",
    "    'BP': ['HIGH'], \n",
    "    'Cholesterol': ['HIGH'], \n",
    "    'Na_to_K': [25]\n",
    "}\n",
    "\n",
    "ready_data=preprocess(new_data)\n",
    "\n",
    "new_pred=best_model.predict(ready_data)\n",
    "new_pred"
   ]
  },
  {
   "cell_type": "code",
   "execution_count": 56,
   "id": "4fa270f2",
   "metadata": {
    "execution": {
     "iopub.execute_input": "2025-04-11T17:03:45.598377Z",
     "iopub.status.busy": "2025-04-11T17:03:45.598122Z",
     "iopub.status.idle": "2025-04-11T17:03:45.603144Z",
     "shell.execute_reply": "2025-04-11T17:03:45.602386Z"
    },
    "papermill": {
     "duration": 0.036654,
     "end_time": "2025-04-11T17:03:45.604435",
     "exception": false,
     "start_time": "2025-04-11T17:03:45.567781",
     "status": "completed"
    },
    "tags": []
   },
   "outputs": [
    {
     "data": {
      "text/plain": [
       "array(['DrugY'], dtype=object)"
      ]
     },
     "execution_count": 56,
     "metadata": {},
     "output_type": "execute_result"
    }
   ],
   "source": [
    "new_pred= lab_encod.inverse_transform(new_pred)\n",
    "new_pred"
   ]
  },
  {
   "cell_type": "code",
   "execution_count": 57,
   "id": "b5ae8139",
   "metadata": {
    "execution": {
     "iopub.execute_input": "2025-04-11T17:03:45.666381Z",
     "iopub.status.busy": "2025-04-11T17:03:45.666043Z",
     "iopub.status.idle": "2025-04-11T17:03:45.674460Z",
     "shell.execute_reply": "2025-04-11T17:03:45.673614Z"
    },
    "papermill": {
     "duration": 0.040578,
     "end_time": "2025-04-11T17:03:45.675743",
     "exception": false,
     "start_time": "2025-04-11T17:03:45.635165",
     "status": "completed"
    },
    "tags": []
   },
   "outputs": [
    {
     "data": {
      "text/plain": [
       "['Feature_encoder.pkl']"
      ]
     },
     "execution_count": 57,
     "metadata": {},
     "output_type": "execute_result"
    }
   ],
   "source": [
    "import joblib\n",
    "joblib.dump(best_model, 'Drug_classifier.pkl')\n",
    "joblib.dump(lab_encod, 'Target_encoder.pkl')\n",
    "joblib.dump(encoder, 'Feature_encoder.pkl')"
   ]
  },
  {
   "cell_type": "markdown",
   "id": "4e1361bd",
   "metadata": {
    "papermill": {
     "duration": 0.030692,
     "end_time": "2025-04-11T17:03:45.737833",
     "exception": false,
     "start_time": "2025-04-11T17:03:45.707141",
     "status": "completed"
    },
    "tags": []
   },
   "source": [
    "# Drug Classification Model Report\n",
    "\n",
    "## 📊 Model Performance Summary\n",
    "**Best Models:**  \n",
    "- **Decision Tree Classifier**  \n",
    "- **Random Forest Classifier**\n",
    "- **Support Vector Classifier** \n",
    "**Achieved Accuracy:** 98%  \n",
    "\n",
    "## 🔍 Spliting Data\n",
    "\n",
    "- **Train Data is 75%**\n",
    "- **Test Data is 25%**\n",
    "\n",
    "## 🧩 Used Models and Accuracy\n",
    "\n",
    "- **Decision Tree -->> 98%**\n",
    "- **Random Forest -->> 98%**\n",
    "- **Support Vector Classifier (SVC) -->> 98%**\n",
    "- **Logistic Regression -->> 92%**\n",
    "- **KNeighbors -->> 78%**\n",
    "\n",
    "## 🤖 Encoding\n",
    "- **Target -->> LabelEncoder**\n",
    "- **Categorical Features -->> OneHotEncoder**"
   ]
  },
  {
   "cell_type": "code",
   "execution_count": null,
   "id": "bca4ac2d",
   "metadata": {
    "papermill": {
     "duration": 0.030865,
     "end_time": "2025-04-11T17:03:45.799904",
     "exception": false,
     "start_time": "2025-04-11T17:03:45.769039",
     "status": "completed"
    },
    "tags": []
   },
   "outputs": [],
   "source": []
  },
  {
   "cell_type": "code",
   "execution_count": null,
   "id": "9f4fd5c6",
   "metadata": {
    "papermill": {
     "duration": 0.028955,
     "end_time": "2025-04-11T17:03:45.858943",
     "exception": false,
     "start_time": "2025-04-11T17:03:45.829988",
     "status": "completed"
    },
    "tags": []
   },
   "outputs": [],
   "source": []
  },
  {
   "cell_type": "code",
   "execution_count": null,
   "id": "6646fe34",
   "metadata": {
    "papermill": {
     "duration": 0.030421,
     "end_time": "2025-04-11T17:03:45.918369",
     "exception": false,
     "start_time": "2025-04-11T17:03:45.887948",
     "status": "completed"
    },
    "tags": []
   },
   "outputs": [],
   "source": []
  }
 ],
 "metadata": {
  "kaggle": {
   "accelerator": "nvidiaTeslaT4",
   "dataSources": [
    {
     "datasetId": 6884920,
     "sourceId": 11051370,
     "sourceType": "datasetVersion"
    }
   ],
   "dockerImageVersionId": 30918,
   "isGpuEnabled": true,
   "isInternetEnabled": false,
   "language": "python",
   "sourceType": "notebook"
  },
  "kernelspec": {
   "display_name": "Python 3",
   "language": "python",
   "name": "python3"
  },
  "language_info": {
   "codemirror_mode": {
    "name": "ipython",
    "version": 3
   },
   "file_extension": ".py",
   "mimetype": "text/x-python",
   "name": "python",
   "nbconvert_exporter": "python",
   "pygments_lexer": "ipython3",
   "version": "3.10.12"
  },
  "papermill": {
   "default_parameters": {},
   "duration": 76.01854,
   "end_time": "2025-04-11T17:03:46.670235",
   "environment_variables": {},
   "exception": null,
   "input_path": "__notebook__.ipynb",
   "output_path": "__notebook__.ipynb",
   "parameters": {},
   "start_time": "2025-04-11T17:02:30.651695",
   "version": "2.6.0"
  }
 },
 "nbformat": 4,
 "nbformat_minor": 5
}
